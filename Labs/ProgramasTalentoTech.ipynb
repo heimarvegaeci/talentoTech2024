{
  "cells": [
    {
      "cell_type": "markdown",
      "metadata": {},
      "source": [
        "# ***Programa para calcular la raiz cuadrada***"
      ]
    },
    {
      "cell_type": "code",
      "execution_count": 1,
      "metadata": {},
      "outputs": [
        {
          "name": "stdout",
          "output_type": "stream",
          "text": [
            "La raíz cuadrada de 10.0 es 3.1622776601683795\n"
          ]
        }
      ],
      "source": [
        "def raiz_cuadrada(numero):\n",
        "    if numero < 0:\n",
        "        return \"Error: No se puede calcular la raíz cuadrada de un número negativo.\"\n",
        "    else:\n",
        "        return numero ** 0.5\n",
        "\n",
        "# Ejemplo de uso\n",
        "numero = float(input(\"Introduce un número: \"))\n",
        "resultado = raiz_cuadrada(numero)\n",
        "print(f\"La raíz cuadrada de {numero} es {resultado}\")"
      ]
    },
    {
      "cell_type": "markdown",
      "metadata": {
        "id": "J_7PsYAYF8Ht"
      },
      "source": [
        "# ***Programa para contar vocales y consonantes***"
      ]
    },
    {
      "cell_type": "code",
      "execution_count": 1,
      "metadata": {
        "colab": {
          "base_uri": "https://localhost:8080/"
        },
        "id": "vWvegbX8DrM-",
        "outputId": "54eca82f-f9f3-459c-a823-0b9ccc639a21"
      },
      "outputs": [
        {
          "name": "stdout",
          "output_type": "stream",
          "text": [
            "Vocales: 5\n",
            "Consonantes: 6\n"
          ]
        }
      ],
      "source": [
        "def contar_vocales_consonantes(cadena):\n",
        "    vocales = \"aeiouAEIOU\"\n",
        "    conteo_vocales = 0\n",
        "    conteo_consonantes = 0\n",
        "\n",
        "    for char in cadena:\n",
        "        if char.isalpha():\n",
        "            if char in vocales:\n",
        "                conteo_vocales += 1\n",
        "            else:\n",
        "                conteo_consonantes += 1\n",
        "\n",
        "    return conteo_vocales, conteo_consonantes\n",
        "\n",
        "def main():\n",
        "    cadena = input(\"Introduce una cadena de texto: \")\n",
        "    vocales, consonantes = contar_vocales_consonantes(cadena)\n",
        "    print(f\"Vocales: {vocales}\")\n",
        "    print(f\"Consonantes: {consonantes}\")\n",
        "\n",
        "if __name__ == \"__main__\":\n",
        "    main()"
      ]
    },
    {
      "cell_type": "markdown",
      "metadata": {
        "id": "4AF3dP18GvwE"
      },
      "source": [
        "# ***Código conversor a ASCII***"
      ]
    },
    {
      "cell_type": "code",
      "execution_count": 2,
      "metadata": {
        "colab": {
          "base_uri": "https://localhost:8080/"
        },
        "id": "gDvSrkpLG88g",
        "outputId": "4e056bea-be5a-4b1b-b034-b89055b29816"
      },
      "outputs": [
        {
          "name": "stdout",
          "output_type": "stream",
          "text": [
            "Ingrese un carácter: A\n",
            "Código ASCII de 'A': 65\n",
            "Representación binaria de 65: 1000001\n"
          ]
        }
      ],
      "source": [
        "# Programa para mostrar el código ASCII y su representación binaria de un carácter ingresado por el usuario\n",
        "\n",
        "# Solicitar al usuario que ingrese un carácter\n",
        "caracter = input(\"Ingrese un carácter: \")\n",
        "\n",
        "# Obtener el código ASCII del carácter\n",
        "codigo_ascii = ord(caracter)\n",
        "\n",
        "# Convertir el código ASCII a su representación binaria\n",
        "codigo_binario = bin(codigo_ascii)[2:]\n",
        "\n",
        "# Mostrar los resultados\n",
        "print(f\"Código ASCII de '{caracter}': {codigo_ascii}\")\n",
        "print(f\"Representación binaria de {codigo_ascii}: {codigo_binario}\")"
      ]
    },
    {
      "cell_type": "markdown",
      "metadata": {
        "id": "hAt1U8TAHIfQ"
      },
      "source": [
        "# ***Conversor base numérica***"
      ]
    },
    {
      "cell_type": "code",
      "execution_count": 3,
      "metadata": {
        "colab": {
          "base_uri": "https://localhost:8080/"
        },
        "id": "m4z8sqGiHXqD",
        "outputId": "9dc7a619-4139-40ff-d36e-01e6e0b4a7c3"
      },
      "outputs": [
        {
          "name": "stdout",
          "output_type": "stream",
          "text": [
            "Introduce un número decimal: 10\n",
            "Binario: 0b1010\n",
            "Octal: 0o12\n",
            "Hexadecimal: 0xa\n"
          ]
        }
      ],
      "source": [
        "def convertir_bases(numero_decimal):\n",
        "    binario = bin(numero_decimal)\n",
        "    octal = oct(numero_decimal)\n",
        "    hexadecimal = hex(numero_decimal)\n",
        "\n",
        "    return binario, octal, hexadecimal\n",
        "\n",
        "def main():\n",
        "    try:\n",
        "        numero_decimal = int(input(\"Introduce un número decimal: \"))\n",
        "        binario, octal, hexadecimal = convertir_bases(numero_decimal)\n",
        "\n",
        "        print(f\"Binario: {binario}\")\n",
        "        print(f\"Octal: {octal}\")\n",
        "        print(f\"Hexadecimal: {hexadecimal}\")\n",
        "    except ValueError:\n",
        "        print(\"Por favor, introduce un número decimal válido.\")\n",
        "\n",
        "if __name__ == \"__main__\":\n",
        "    main()"
      ]
    },
    {
      "cell_type": "markdown",
      "metadata": {
        "id": "fbji5nh5KgFS"
      },
      "source": [
        "# ***Número Invertido***"
      ]
    },
    {
      "cell_type": "code",
      "execution_count": 4,
      "metadata": {
        "colab": {
          "base_uri": "https://localhost:8080/"
        },
        "id": "VBfxWIo0Kj8n",
        "outputId": "3c0c65bf-c867-4e0a-cd9b-5e72bcf1107d"
      },
      "outputs": [
        {
          "name": "stdout",
          "output_type": "stream",
          "text": [
            "Introduce un número entero: 4789\n",
            "Número invertido: 9874\n"
          ]
        }
      ],
      "source": [
        "def invertir_numero(numero):\n",
        "    numero_invertido = 0\n",
        "    while numero > 0:\n",
        "        digito = numero % 10\n",
        "        numero_invertido = numero_invertido * 10 + digito\n",
        "        numero = numero // 10\n",
        "    return numero_invertido\n",
        "\n",
        "# Solicitar al usuario que ingrese un número entero\n",
        "numero = int(input(\"Introduce un número entero: \"))\n",
        "print(\"Número invertido:\", invertir_numero(numero))"
      ]
    }
  ],
  "metadata": {
    "colab": {
      "provenance": []
    },
    "kernelspec": {
      "display_name": "Python 3",
      "name": "python3"
    },
    "language_info": {
      "codemirror_mode": {
        "name": "ipython",
        "version": 3
      },
      "file_extension": ".py",
      "mimetype": "text/x-python",
      "name": "python",
      "nbconvert_exporter": "python",
      "pygments_lexer": "ipython3",
      "version": "3.12.5"
    }
  },
  "nbformat": 4,
  "nbformat_minor": 0
}
