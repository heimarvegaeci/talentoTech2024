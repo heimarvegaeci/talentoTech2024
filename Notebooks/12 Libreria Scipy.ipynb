{
 "cells": [
  {
   "cell_type": "markdown",
   "metadata": {},
   "source": [
    "# Introducción a SciPy\n",
    "SciPy es una librería de Python usada principalmente para el análisis numérico y científico. Está construida sobre NumPy y provee funcionalidades adicionales para resolver problemas relacionados con álgebra lineal, optimización, integración, interpolación, procesamiento de señales, entre otros.\n",
    "SciPy es especialmente útil en proyectos de **analítica de datos**, ya que permite resolver tareas complejas relacionadas con el manejo de matrices, optimización de funciones, y procesamiento de datos."
   ]
  },
  {
   "cell_type": "markdown",
   "metadata": {},
   "source": [
    "## Principales Funcionalidades de SciPy\n",
    "Algunas de las principales sublibrerías y funciones de SciPy incluyen:\n",
    "- **scipy.integrate**: Para la integración numérica de funciones y ecuaciones diferenciales.\n",
    "- **scipy.optimize**: Proporciona métodos para optimización y búsqueda de raíces.\n",
    "- **scipy.interpolate**: Para interpolar valores y crear funciones continuas a partir de datos discretos.\n",
    "- **scipy.stats**: Herramientas estadísticas para análisis de datos.\n",
    "- **scipy.spatial**: Funciones para trabajar con geometría espacial, como la distancia entre puntos o el cálculo de convex hull.\n"
   ]
  },
  {
   "cell_type": "markdown",
   "metadata": {},
   "source": [
    "## Ejemplos comunes en Analítica de Datos con SciPy\n",
    "A continuación, se presentan ejemplos prácticos de las funcionalidades más comunes de SciPy utilizadas en el análisis de datos."
   ]
  },
  {
   "cell_type": "code",
   "execution_count": 2,
   "metadata": {},
   "outputs": [
    {
     "name": "stdout",
     "output_type": "stream",
     "text": [
      "Resultado: 2.0, Error estimado: 2.220446049250313e-14\n"
     ]
    }
   ],
   "source": [
    "# Ejemplo 1: Integración numérica\n",
    "from scipy import integrate\n",
    "import numpy as np\n",
    "\n",
    "# Definimos la función a integrar\n",
    "def f(x):\n",
    "    return np.sin(x)\n",
    "\n",
    "# Calculamos la integral de 0 a pi\n",
    "result, error = integrate.quad(f, 0, np.pi)\n",
    "print(f\"Resultado: {result}, Error estimado: {error}\")"
   ]
  },
  {
   "cell_type": "code",
   "execution_count": 3,
   "metadata": {},
   "outputs": [
    {
     "name": "stdout",
     "output_type": "stream",
     "text": [
      "Mínimo encontrado en: [-1.00000001]\n"
     ]
    }
   ],
   "source": [
    "# Ejemplo 2: Optimización de funciones\n",
    "from scipy import optimize\n",
    "\n",
    "# Definimos una función cuadrática\n",
    "def f(x):\n",
    "    return x**2 + 2*x + 1\n",
    "\n",
    "# Usamos minimize para encontrar el mínimo\n",
    "res = optimize.minimize(f, x0=0)\n",
    "print(f\"Mínimo encontrado en: {res.x}\")"
   ]
  },
  {
   "cell_type": "code",
   "execution_count": 4,
   "metadata": {},
   "outputs": [
    {
     "name": "stdout",
     "output_type": "stream",
     "text": [
      "[ 0.          0.55555556  1.33333333  3.          5.11111111  7.88888889\n",
      " 11.33333333 15.22222222 20.         25.        ]\n"
     ]
    }
   ],
   "source": [
    "# Ejemplo 3: Interpolación de datos\n",
    "from scipy import interpolate\n",
    "\n",
    "# Datos discretos\n",
    "x = np.array([0, 1, 2, 3, 4, 5])\n",
    "y = np.array([0, 1, 4, 9, 16, 25])\n",
    "\n",
    "# Creamos la función de interpolación\n",
    "f_interp = interpolate.interp1d(x, y)\n",
    "\n",
    "# Interpolamos para valores intermedios\n",
    "x_new = np.linspace(0, 5, 10)\n",
    "y_new = f_interp(x_new)\n",
    "print(y_new)"
   ]
  },
  {
   "cell_type": "markdown",
   "metadata": {},
   "source": [
    "## Ejercicios Propuestos\n",
    "A continuación se plantean 5 ejercicios para que practiques con SciPy. Al final encontrarás las soluciones explicadas paso a paso."
   ]
  },
  {
   "cell_type": "markdown",
   "metadata": {},
   "source": [
    "### Ejercicio 1\n",
    "Usa la función `scipy.integrate.quad` para calcular la integral de la función $f(x) = e^{-x^2}$ desde -∞ hasta ∞."
   ]
  },
  {
   "cell_type": "markdown",
   "metadata": {},
   "source": [
    "### Ejercicio 2\n",
    "Encuentra el mínimo de la función $f(x) = x^4 - 3x^3 + 2$ usando `scipy.optimize.minimize`."
   ]
  },
  {
   "cell_type": "markdown",
   "metadata": {},
   "source": [
    "### Ejercicio 3\n",
    "Realiza una interpolación cúbica usando `scipy.interpolate.interp1d` con los datos $x = [0, 1, 2, 3, 4]$ y $y = [0, 1, 8, 27, 64]$."
   ]
  },
  {
   "cell_type": "markdown",
   "metadata": {},
   "source": [
    "### Ejercicio 4\n",
    "Utiliza `scipy.stats.norm` para calcular la probabilidad acumulada de una distribución normal con media 0 y desviación estándar 1 para el valor de 1.96."
   ]
  },
  {
   "cell_type": "markdown",
   "metadata": {},
   "source": [
    "### Ejercicio 5\n",
    "Calcula la distancia euclidiana entre los puntos (1, 2) y (4, 6) utilizando `scipy.spatial.distance`."
   ]
  },
  {
   "cell_type": "markdown",
   "metadata": {},
   "source": [
    "## Soluciones Explicadas"
   ]
  },
  {
   "cell_type": "code",
   "execution_count": 5,
   "metadata": {},
   "outputs": [
    {
     "name": "stdout",
     "output_type": "stream",
     "text": [
      "Resultado de la integral: 1.7724538509055159, Error: 1.4202636780944923e-08\n"
     ]
    }
   ],
   "source": [
    "# Solución Ejercicio 1\n",
    "from scipy import integrate\n",
    "import numpy as np\n",
    "\n",
    "# Definimos la función a integrar\n",
    "def integrand(x):\n",
    "    return np.exp(-x**2)\n",
    "\n",
    "# Integramos de -∞ a ∞\n",
    "resultado, error = integrate.quad(integrand, -np.inf, np.inf)\n",
    "print(f\"Resultado de la integral: {resultado}, Error: {error}\")"
   ]
  },
  {
   "cell_type": "code",
   "execution_count": 6,
   "metadata": {},
   "outputs": [
    {
     "name": "stdout",
     "output_type": "stream",
     "text": [
      "Mínimo en: [0.]\n"
     ]
    }
   ],
   "source": [
    "# Solución Ejercicio 2\n",
    "from scipy import optimize\n",
    "\n",
    "# Definimos la función\n",
    "def f(x):\n",
    "    return x**4 - 3*x**3 + 2\n",
    "\n",
    "# Encontramos el mínimo\n",
    "resultado = optimize.minimize(f, x0=0)\n",
    "print(f\"Mínimo en: {resultado.x}\")"
   ]
  },
  {
   "cell_type": "code",
   "execution_count": 7,
   "metadata": {},
   "outputs": [
    {
     "name": "stdout",
     "output_type": "stream",
     "text": [
      "[ 0.          0.0877915   0.70233196  2.37037037  5.61865569 10.9739369\n",
      " 18.96296296 30.11248285 44.94924554 64.        ]\n"
     ]
    }
   ],
   "source": [
    "# Solución Ejercicio 3\n",
    "from scipy import interpolate\n",
    "import numpy as np\n",
    "\n",
    "# Datos\n",
    "x = np.array([0, 1, 2, 3, 4])\n",
    "y = np.array([0, 1, 8, 27, 64])\n",
    "\n",
    "# Interpolación cúbica\n",
    "f_interp = interpolate.interp1d(x, y, kind='cubic')\n",
    "\n",
    "# Interpolamos nuevos valores\n",
    "x_new = np.linspace(0, 4, 10)\n",
    "y_new = f_interp(x_new)\n",
    "print(y_new)"
   ]
  },
  {
   "cell_type": "code",
   "execution_count": 8,
   "metadata": {},
   "outputs": [
    {
     "name": "stdout",
     "output_type": "stream",
     "text": [
      "Probabilidad acumulada: 0.9750021048517795\n"
     ]
    }
   ],
   "source": [
    "# Solución Ejercicio 4\n",
    "from scipy.stats import norm\n",
    "\n",
    "# Calculamos la probabilidad acumulada (CDF) para el valor 1.96\n",
    "prob = norm.cdf(1.96, loc=0, scale=1)\n",
    "print(f\"Probabilidad acumulada: {prob}\")"
   ]
  },
  {
   "cell_type": "code",
   "execution_count": 9,
   "metadata": {},
   "outputs": [
    {
     "name": "stdout",
     "output_type": "stream",
     "text": [
      "Distancia euclidiana: 5.0\n"
     ]
    }
   ],
   "source": [
    "# Solución Ejercicio 5\n",
    "from scipy.spatial import distance\n",
    "\n",
    "# Definimos los puntos\n",
    "p1 = [1, 2]\n",
    "p2 = [4, 6]\n",
    "\n",
    "# Calculamos la distancia euclidiana\n",
    "dist = distance.euclidean(p1, p2)\n",
    "print(f\"Distancia euclidiana: {dist}\")"
   ]
  }
 ],
 "metadata": {
  "kernelspec": {
   "display_name": "base",
   "language": "python",
   "name": "python3"
  },
  "language_info": {
   "codemirror_mode": {
    "name": "ipython",
    "version": 3
   },
   "file_extension": ".py",
   "mimetype": "text/x-python",
   "name": "python",
   "nbconvert_exporter": "python",
   "pygments_lexer": "ipython3",
   "version": "3.10.9"
  }
 },
 "nbformat": 4,
 "nbformat_minor": 4
}
