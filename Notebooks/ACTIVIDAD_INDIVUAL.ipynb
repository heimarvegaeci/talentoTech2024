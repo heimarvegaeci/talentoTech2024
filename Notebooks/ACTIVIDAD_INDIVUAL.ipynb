{
  "nbformat": 4,
  "nbformat_minor": 0,
  "metadata": {
    "colab": {
      "provenance": []
    },
    "kernelspec": {
      "name": "python3",
      "display_name": "Python 3"
    },
    "language_info": {
      "name": "python"
    }
  },
  "cells": [
    {
      "cell_type": "code",
      "execution_count": 8,
      "metadata": {
        "id": "aF9VNxuQUwe1"
      },
      "outputs": [],
      "source": [
        "import pandas as pd\n",
        "import numpy as np\n",
        "\n",
        "# Función para generar las calificaciones y determinar si el estudiante aprueba\n",
        "def generar_dataset(n=100):\n",
        "    # Generar calificaciones aleatorias entre 1 y 100 para tres materias\n",
        "    materia1 = np.random.randint(1, 101, n)\n",
        "    materia2 = np.random.randint(1, 101, n)\n",
        "    materia3 = np.random.randint(1, 101, n)\n",
        "\n",
        "    # Calcular el promedio final y redondearlo al entero más cercano\n",
        "    promedio_final = np.round((materia1 + materia2 + materia3) / 3)\n",
        "\n",
        "    # Etiquetar como 'Aprobado' (1) si el promedio es mayor a 80, de lo contrario 'Reprobado' (0)\n",
        "    aprobado = np.where(promedio_final > 80, 1, 0)\n",
        "\n",
        "    # Crear un DataFrame\n",
        "    data = pd.DataFrame({\n",
        "        'Estudiante_ID': np.arange(1, n+1),\n",
        "        'Materia1': materia1,\n",
        "        'Materia2': materia2,\n",
        "        'Materia3': materia3,\n",
        "        'Promedio_Final': promedio_final,\n",
        "        'Aprobado': aprobado\n",
        "    })\n",
        "\n",
        "    # Guardar el DataFrame en un archivo CSV\n",
        "    data.to_csv('calificaciones.csv', index=False)\n",
        "\n",
        "    return data\n",
        "\n",
        "# Generar el dataset\n",
        "dataset = generar_dataset()"
      ]
    },
    {
      "cell_type": "code",
      "source": [
        "import pandas as pd\n",
        "from sklearn import svm\n",
        "from sklearn.model_selection import train_test_split\n",
        "from sklearn.preprocessing import StandardScaler\n",
        "from sklearn.metrics import accuracy_score\n",
        "\n",
        "# Leer el dataset desde el archivo CSV\n",
        "data = pd.read_csv('calificaciones.csv')\n",
        "\n",
        "# Preprocesamiento de los datos\n",
        "X = data[['Materia1', 'Materia2', 'Materia3', 'Promedio_Final']]\n",
        "y = data['Aprobado']\n",
        "\n",
        "# Escalado de características\n",
        "scaler = StandardScaler()\n",
        "X_scaled = scaler.fit_transform(X)\n",
        "\n",
        "# Dividir los datos en entrenamiento y prueba (80% entrenamiento, 20% prueba)\n",
        "X_train, X_test, y_train, y_test = train_test_split(X_scaled, y, test_size=0.2, random_state=42)\n",
        "\n",
        "# Entrenar el modelo SVM\n",
        "clf = svm.SVC(kernel='linear')  # Se puede ajustar el kernel a 'rbf', 'poly', etc.\n",
        "clf.fit(X_train, y_train)\n",
        "\n",
        "# Hacer predicciones\n",
        "y_pred = clf.predict(X_test)\n",
        "\n",
        "# Evaluar el modelo\n",
        "accuracy = accuracy_score(y_test, y_pred)\n",
        "print(f'Precisión del modelo: {accuracy:.2f}')"
      ],
      "metadata": {
        "colab": {
          "base_uri": "https://localhost:8080/"
        },
        "id": "LYjoao-gU5NO",
        "outputId": "c9559782-a2a8-472c-f419-391d7c6ccf85"
      },
      "execution_count": 7,
      "outputs": [
        {
          "output_type": "stream",
          "name": "stdout",
          "text": [
            "Precisión del modelo: 1.00\n"
          ]
        }
      ]
    },
    {
      "cell_type": "code",
      "source": [
        "import matplotlib.pyplot as plt\n",
        "import numpy as np\n",
        "\n",
        "# Datos reales (test set)\n",
        "X_test_materia1 = X_test[:, 0]  # Materia1\n",
        "X_test_materia2 = X_test[:, 1]  # Materia2\n",
        "\n",
        "# Crear la gráfica de dispersión\n",
        "plt.figure(figsize=(8,6))\n",
        "\n",
        "# Puntos para los estudiantes reprobados (etiqueta 0)\n",
        "plt.scatter(X_test_materia1[y_test == 0], X_test_materia2[y_test == 0], color='red', label='Reprobado (Real)', marker='x')\n",
        "\n",
        "# Puntos para los estudiantes aprobados (etiqueta 1)\n",
        "plt.scatter(X_test_materia1[y_test == 1], X_test_materia2[y_test == 1], color='green', label='Aprobado (Real)', marker='o')\n",
        "\n",
        "# Puntos predichos como aprobados por el modelo\n",
        "plt.scatter(X_test_materia1[y_pred == 1], X_test_materia2[y_pred == 1], edgecolor='blue', facecolor='none', label='Aprobado (Predicho)', marker='o')\n",
        "\n",
        "# Puntos predichos como reprobados por el modelo\n",
        "plt.scatter(X_test_materia1[y_pred == 0], X_test_materia2[y_pred == 0], edgecolor='black', facecolor='none', label='Reprobado (Predicho)', marker='x')\n",
        "\n",
        "# Añadir leyenda y etiquetas\n",
        "plt.xlabel('Calificación Materia 1')\n",
        "plt.ylabel('Calificación Materia 2')\n",
        "plt.title('Clasificación de estudiantes según calificaciones en dos materias')\n"
      ],
      "metadata": {
        "colab": {
          "base_uri": "https://localhost:8080/",
          "height": 637
        },
        "id": "mxobuLFx2VU5",
        "outputId": "df1c4dd2-8401-477e-b4de-a72431f6c2f8"
      },
      "execution_count": 4,
      "outputs": [
        {
          "output_type": "stream",
          "name": "stderr",
          "text": [
            "<ipython-input-4-91cb53ac1693>:21: UserWarning: You passed a edgecolor/edgecolors ('black') for an unfilled marker ('x').  Matplotlib is ignoring the edgecolor in favor of the facecolor.  This behavior may change in the future.\n",
            "  plt.scatter(X_test_materia1[y_pred == 0], X_test_materia2[y_pred == 0], edgecolor='black', facecolor='none', label='Reprobado (Predicho)', marker='x')\n"
          ]
        },
        {
          "output_type": "execute_result",
          "data": {
            "text/plain": [
              "Text(0.5, 1.0, 'Clasificación de estudiantes según calificaciones en dos materias')"
            ]
          },
          "metadata": {},
          "execution_count": 4
        },
        {
          "output_type": "display_data",
          "data": {
            "text/plain": [
              "<Figure size 800x600 with 1 Axes>"
            ],
            "image/png": "[encoded data removed]"
          },
          "metadata": {}
        }
      ]
    },
    {
      "cell_type": "markdown",
      "source": [
        "Distribución de los datos: La mayoría de los puntos están clasificados como reprobados, lo que sugiere que en el conjunto de datos de prueba hay una proporción considerable de estudiantes con calificaciones bajas en las dos materias."
      ],
      "metadata": {
        "id": "q4bpzrRJOx35"
      }
    },
    {
      "cell_type": "markdown",
      "source": [
        "El modelo parece estar ajustado para identificar principalmente estudiantes reprobados. La presencia de solo un estudiante aprobado podría indicar que el modelo tiene una tendencia a clasificar erróneamente a los estudiantes aprobados o que, en efecto, hay muy pocos aprobados en el conjunto de datos."
      ],
      "metadata": {
        "id": "71KLbP6sPofK"
      }
    },
    {
      "cell_type": "code",
      "source": [
        "import pandas as pd  # Biblioteca para la manipulación y análisis de datos\n",
        "from sklearn import svm  # Módulo para el algoritmo de clasificación SVM (Support Vector Machine)\n",
        "from sklearn.model_selection import train_test_split  # Función para dividir el dataset en entrenamiento y prueba\n",
        "from sklearn.preprocessing import StandardScaler  # Clase para normalizar las características (escalado de datos)\n",
        "from sklearn.metrics import accuracy_score  # Función para calcular la precisión del modelo\n",
        "\n",
        "# Leer el dataset desde un archivo CSV\n",
        "# Este archivo contiene las calificaciones de los estudiantes y si han aprobado o no\n",
        "data = pd.read_csv('calificaciones.csv')\n",
        "\n",
        "# Preprocesamiento de los datos:\n",
        "# X son las características del dataset (calificaciones de 3 materias y el promedio final)\n",
        "# y es la variable objetivo, que indica si el estudiante aprobó (1) o no (0)\n",
        "X = data[['Materia1', 'Materia2', 'Materia3', 'Promedio_Final']]\n",
        "y = data['Aprobado']\n",
        "\n",
        "# Escalado de características:\n",
        "# Se usa StandardScaler para normalizar los datos de X, es decir, las calificaciones\n",
        "# Esto convierte los valores en un rango estándar (media 0 y desviación estándar 1)\n",
        "scaler = StandardScaler()\n",
        "X_scaled = scaler.fit_transform(X)  # Transformamos las características escaladas\n",
        "\n",
        "# Dividir los datos en conjuntos de entrenamiento y prueba:\n",
        "# El 80% de los datos se utiliza para entrenamiento y el 20% para prueba\n",
        "# random_state=42 asegura que la división sea reproducible (la misma en cada ejecución)\n",
        "X_train, X_test, y_train, y_test = train_test_split(X_scaled, y, test_size=0.2, random_state=42)\n",
        "\n",
        "# Entrenar el modelo SVM:\n",
        "# Se usa el modelo SVM con un kernel lineal. Un kernel define cómo los datos son mapeados en un espacio dimensional mayor\n",
        "# 'linear' es uno de los tipos de kernel que puede ser utilizado. Otros incluyen 'rbf', 'poly', etc.\n",
        "clf = svm.SVC(kernel='linear')  # Inicializamos el modelo con kernel lineal\n",
        "clf.fit(X_train, y_train)  # Entrenamos el modelo con los datos de entrenamiento\n",
        "\n",
        "# Hacer predicciones:\n",
        "# Se usan los datos de prueba (X_test) para predecir los resultados (aprobado/no aprobado)\n",
        "y_pred = clf.predict(X_test)\n",
        "\n",
        "# Evaluar el modelo:\n",
        "# Calculamos la precisión del modelo comparando las predicciones con los resultados reales\n",
        "accuracy = accuracy_score(y_test, y_pred)\n",
        "\n",
        "# Imprimir la precisión del modelo:\n",
        "# La precisión indica qué porcentaje de las predicciones fueron correctas\n",
        "print(f'Precisión del modelo: {accuracy:.2f}')\n"
      ],
      "metadata": {
        "id": "EK_BCMCaZ9WO"
      },
      "execution_count": null,
      "outputs": []
    }
  ]
}