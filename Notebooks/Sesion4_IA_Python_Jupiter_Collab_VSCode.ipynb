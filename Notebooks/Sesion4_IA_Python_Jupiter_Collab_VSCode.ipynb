{
  "cells": [
    {
      "cell_type": "markdown",
      "metadata": {
        "id": "_CV9UaVs7ppC"
      },
      "source": [
        "# Bloque 2: Herramientas y Lenguajes de Programación en IA\n",
        "## Sesión 4: Introducción a Python para IA"
      ]
    },
    {
      "cell_type": "markdown",
      "metadata": {
        "id": "5m263xov7ppJ"
      },
      "source": [
        "### **Teoría: Por qué Python es el lenguaje más utilizado en IA**\n",
        "\n",
        "- **Simplicidad y Legibilidad:** Python es conocido por su sintaxis sencilla y fácil de leer, lo que facilita a los desarrolladores escribir código de manera eficiente. Esta simplicidad permite concentrarse más en resolver problemas complejos de IA en lugar de lidiar con la complejidad del código.\n",
        "- **Extensa Comunidad y Soporte:** Python cuenta con una amplia comunidad de desarrolladores que contribuyen a su constante mejora y expansión. Esto asegura una abundancia de recursos, como documentación, foros de ayuda, y bibliotecas desarrolladas por terceros que facilitan la implementación de proyectos de IA.\n",
        "- **Ecosistema de Bibliotecas:** Python posee un extenso conjunto de bibliotecas específicas para IA y Machine Learning. Entre las más destacadas se encuentran:\n",
        "  - **NumPy:** Ofrece soporte para grandes matrices y operaciones matemáticas de alto rendimiento.\n",
        "  - **Pandas:** Proporciona estructuras de datos y herramientas de análisis de datos que son esenciales para preparar y manipular datos en IA.\n",
        "  - **Scikit-learn:** Una biblioteca robusta que incluye herramientas simples y eficientes para la minería de datos y análisis de datos. Es ideal para realizar tareas de clasificación, regresión, y clustering.\n",
        "- **Integración con Otras Herramientas:** Python se integra fácilmente con otras tecnologías y lenguajes de programación, lo que permite a los desarrolladores combinar distintas herramientas en un solo proyecto de IA. Además, es compatible con entornos de desarrollo como Jupyter Notebook y Google Colab, que facilitan la experimentación y visualización de datos.\n",
        "- **Flexibilidad:** Python se utiliza en una variedad de aplicaciones de IA, desde Machine Learning y Deep Learning hasta procesamiento de lenguaje natural y visión por computadora, lo que lo convierte en un lenguaje versátil y adaptable."
      ]
    },
    {
      "cell_type": "markdown",
      "metadata": {
        "id": "3ijTG0kG7ppL"
      },
      "source": [
        "### **Ejemplo: Creación de un Script en Python para Manipulación Básica de Datos usando Pandas**\n",
        "\n",
        "1. **Introducción a Pandas:**\n",
        "   - Pandas es una de las bibliotecas más utilizadas en Python para la manipulación y análisis de datos. Proporciona estructuras de datos como `DataFrame` que permite manejar y analizar grandes conjuntos de datos de manera eficiente.\n",
        "\n",
        "2. **Creación del Script:**\n",
        "   - **Paso 1:** Importar la biblioteca Pandas.\n",
        "     ```python\n",
        "     import pandas as pd\n",
        "     ```\n",
        "\n",
        "   - **Paso 2:** Crear un DataFrame simple a partir de un diccionario.\n",
        "     ```python\n",
        "     data = {\n",
        "         'Nombre': ['Ana', 'Luis', 'Carlos', 'María'],\n",
        "         'Edad': [28, 34, 29, 42],\n",
        "         'Ciudad': ['Madrid', 'Barcelona', 'Valencia', 'Sevilla']\n",
        "     }\n",
        "     \n",
        "     df = pd.DataFrame(data)\n",
        "     print(df)\n",
        "     ```\n",
        "\n",
        "   - **Paso 3:** Realizar operaciones básicas como filtrar datos y calcular estadísticas simples.\n",
        "     ```python\n",
        "     # Filtrar datos\n",
        "     mayores_30 = df[df['Edad'] > 30]\n",
        "     print(mayores_30)\n",
        "     \n",
        "     # Calcular la edad promedio\n",
        "     edad_promedio = df['Edad'].mean()\n",
        "     print(f\"La edad promedio es: {edad_promedio}\")\n",
        "     ```\n",
        "\n",
        "3. **Explicación del Script:**\n",
        "   - El script anterior muestra cómo usar Pandas para crear un DataFrame, filtrar datos según un criterio específico y realizar cálculos básicos, como la edad promedio. Esta es una de las muchas aplicaciones prácticas de Pandas en la preparación y manipulación de datos, que es una parte esencial del proceso en cualquier proyecto de IA."
      ]
    },
    {
      "cell_type": "markdown",
      "metadata": {
        "id": "QEUEqaBF7ppM"
      },
      "source": [
        "### **Actividad: Instalación de Python y Configuración del Entorno de Trabajo en tu Computadora**\n",
        "\n",
        "1. **Objetivo de la Actividad:**\n",
        "   - Asegurar que todos los estudiantes tengan Python instalado en sus computadoras y estén familiarizados con la configuración básica de su entorno de desarrollo para poder ejecutar scripts y trabajar con bibliotecas de Python como Pandas.\n",
        "\n",
        "2. **Instrucciones para la Actividad:**\n",
        "\n",
        "   - **Paso 1: Instalación de Python**\n",
        "     - Dirígete a [Python.org](https://www.python.org/) y descarga la versión más reciente de Python.\n",
        "     - Durante la instalación, asegúrate de marcar la opción \"Add Python to PATH\" para que puedas usar Python desde la línea de comandos.\n",
        "   \n",
        "   - **Paso 2: Verificación de la Instalación**\n",
        "     - Abre una terminal o símbolo del sistema y escribe:\n",
        "       ```bash\n",
        "       python --version\n",
        "       ```\n",
        "     - Esto debería devolver la versión de Python instalada.\n",
        "   \n",
        "   - **Paso 3: Instalación de Librerías Esenciales**\n",
        "     - Una vez instalado Python, abre la terminal y usa `pip` para instalar las librerías esenciales:\n",
        "       ```bash\n",
        "       pip install numpy pandas scikit-learn\n",
        "       ```\n",
        "   \n",
        "   - **Paso 4: Configuración de un Entorno de Trabajo**\n",
        "     - Se sugiere el uso de un entorno de desarrollo como Jupyter Notebook para trabajar en proyectos de IA. Puedes instalarlo usando:\n",
        "       ```bash\n",
        "       pip install notebook\n",
        "       ```\n",
        "     - Para iniciar Jupyter Notebook, simplemente escribe:\n",
        "       ```bash\n",
        "       jupyter notebook\n",
        "       ```\n",
        "     - Esto abrirá Jupyter en tu navegador, donde podrás crear y ejecutar scripts en un entorno interactivo.\n",
        "\n",
        "3. **Criterios de Evaluación:**\n",
        "   - **Correcta Instalación de Python:** Verificación de que todos los estudiantes han instalado correctamente Python y pueden acceder a él desde la línea de comandos.\n",
        "   - **Instalación de Librerías:** Los estudiantes deben haber instalado y verificado la instalación de NumPy, Pandas, y Scikit-learn.\n",
        "   - **Configuración de Entorno:** Se evaluará que los estudiantes han configurado su entorno de trabajo y pueden acceder a Jupyter Notebook o Colab desde Visual Studio Code."
      ]
    },
    {
      "cell_type": "markdown",
      "metadata": {
        "id": "mqTfaAaN7ppN"
      },
      "source": [
        "### Actividad.\n",
        "\n",
        "Realizar un Paso a paso detallado para instalar Visual Studio Code, configurar Python en Visual Studio Code, e integrar Google Colab para correr Colab desde Visual Studio Code."
      ]
    },
    {
      "cell_type": "code",
      "execution_count": null,
      "metadata": {
        "vscode": {
          "languageId": "plaintext"
        },
        "id": "uoFqh8fI7ppO"
      },
      "outputs": [],
      "source": []
    }
  ],
  "metadata": {
    "kernelspec": {
      "display_name": "Python 3",
      "language": "python",
      "name": "python3"
    },
    "language_info": {
      "codemirror_mode": {
        "name": "ipython",
        "version": 3
      },
      "file_extension": ".py",
      "mimetype": "text/x-python",
      "name": "python",
      "nbconvert_exporter": "python",
      "version": "3.8.5"
    },
    "colab": {
      "provenance": []
    }
  },
  "nbformat": 4,
  "nbformat_minor": 0
}