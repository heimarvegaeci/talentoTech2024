{
  "nbformat": 4,
  "nbformat_minor": 0,
  "metadata": {
    "colab": {
      "provenance": []
    },
    "kernelspec": {
      "name": "python3",
      "display_name": "Python 3"
    },
    "language_info": {
      "name": "python"
    }
  },
  "cells": [
    {
      "cell_type": "code",
      "execution_count": null,
      "metadata": {
        "id": "tqEAOLN1lHpW",
        "colab": {
          "base_uri": "https://localhost:8080/"
        },
        "outputId": "aed2c063-ef3e-47d9-fdd9-e8378c39ff5e"
      },
      "outputs": [
        {
          "output_type": "stream",
          "name": "stdout",
          "text": [
            "=== Gestión de Nómina para Grupo de Empleados ===\n",
            "\n",
            "Ingrese el número de empleados a procesar: 2\n",
            "\n",
            "--- Procesando empleado 1 ---\n",
            "Ingrese el Nombre Completo: David Blanchar\n",
            "Ingrese la Cédula: 1234\n",
            "Ingrese el Sueldo (en pesos): 3000000\n",
            "Ingrese la Cantidad de Días Laborados: 30\n",
            "Ingrese las Horas de Recargo Nocturno (HRN): 2\n",
            "Ingrese las Horas Extra Diurna (HED): 2\n",
            "Ingrese las Horas Extra Nocturna (HEN): 2\n",
            "Ingrese las Horas Extra Dominical Día (HEDD): 2\n",
            "Ingrese las Horas Extra Dominical Nocturna (HEDN): \n",
            "Error: Por favor, ingrese valores numéricos válidos.\n",
            "\n",
            "--- Procesando empleado 2 ---\n",
            "Ingrese el Nombre Completo: Juan Perez\n",
            "Ingrese la Cédula: 123\n",
            "Ingrese el Sueldo (en pesos): 200000\n",
            "Ingrese la Cantidad de Días Laborados: 30\n",
            "Ingrese las Horas de Recargo Nocturno (HRN): 2\n",
            "Ingrese las Horas Extra Diurna (HED): 2\n",
            "Ingrese las Horas Extra Nocturna (HEN): 2\n",
            "Ingrese las Horas Extra Dominical Día (HEDD): 2\n",
            "Ingrese las Horas Extra Dominical Nocturna (HEDN): 2\n",
            "\n",
            "=== Resumen de Nómina para Juan Perez ===\n",
            "Cédula: 123\n",
            "Salario Básico: $200,000.00\n",
            "Auxilio de Transporte: $162,000.00\n",
            "Total Horas Extras: $13,652.17\n",
            "Deducción por Salud: $8,546.09\n",
            "Deducción por Pensión: $8,546.09\n",
            "Fondo de Solidaridad: $0.00\n",
            "Retención en la Fuente: $0.00\n",
            "Total Descuentos: $17,092.17\n",
            "Salario Neto a Pagar: $358,560.00\n"
          ]
        }
      ],
      "source": [
        "# Definición de constantes\n",
        "SALARIO_MINIMO = 1300000  # El salario mínimo en la empresa en pesos colombianos\n",
        "AUXILIO_TRANSPORTE = 162000  # El valor fijo del auxilio de transporte en pesos colombianos\n",
        "VALOR_UVT = 47065  # Valor de la Unidad de Valor Tributario (UVT) en pesos colombianos\n",
        "\n",
        "# Funciones existentes (igual que antes)\n",
        "# Función para calcular el salario básico proporcional\n",
        "def calcular_salario_basico(sueldo, dias_laborados):\n",
        "    return (sueldo / 30) * dias_laborados\n",
        "\n",
        "# Función para calcular el valor de la hora ordinaria\n",
        "def calcular_valor_hora_ordinaria(sueldo):\n",
        "    return sueldo / 230\n",
        "\n",
        "# Función para calcular el valor total de las horas extras\n",
        "def calcular_valor_horas_extras(valor_hora, hrn, hed, hen, hedd, hedn):\n",
        "    valor_hrn = hrn * (valor_hora * 0.35)\n",
        "    valor_hed = hed * (valor_hora * 1.25)\n",
        "    valor_hen = hen * (valor_hora * 1.75)\n",
        "    valor_hedd = hedd * (valor_hora * 2.00)\n",
        "    valor_hedn = hedn * (valor_hora * 2.50)\n",
        "    total_horas_extras = valor_hrn + valor_hed + valor_hen + valor_hedd + valor_hedn\n",
        "    return total_horas_extras, valor_hrn, valor_hed, valor_hen, valor_hedd, valor_hedn\n",
        "\n",
        "# Función para calcular el Fondo de Solidaridad y Fondo de Subsistencia\n",
        "def calcular_fondo_solidaridad_subsistencia(total_devengado):\n",
        "    salarios_minimos = total_devengado / SALARIO_MINIMO\n",
        "    if 4 <= salarios_minimos <= 16:\n",
        "        porcentaje = 0.01\n",
        "    elif 16 < salarios_minimos <= 17:\n",
        "        porcentaje = 0.012\n",
        "    elif 17 < salarios_minimos <= 18:\n",
        "        porcentaje = 0.014\n",
        "    elif 18 < salarios_minimos <= 19:\n",
        "        porcentaje = 0.016\n",
        "    elif 19 < salarios_minimos <= 20:\n",
        "        porcentaje = 0.018\n",
        "    elif salarios_minimos > 20:\n",
        "        porcentaje = 0.02\n",
        "    else:\n",
        "        porcentaje = 0\n",
        "    fondo = total_devengado * porcentaje\n",
        "    return fondo\n",
        "\n",
        "# Función para calcular la retención en la fuente\n",
        "def calcular_retencion_fuente(taxable_base, uvt):\n",
        "    if uvt <= 95:\n",
        "        retencion = 0\n",
        "    elif 95 < uvt <= 150:\n",
        "        retencion = 0.19 * taxable_base\n",
        "    elif 150 < uvt <= 360:\n",
        "        retencion = 0.28 * taxable_base + (10 * VALOR_UVT)\n",
        "    elif 360 < uvt <= 640:\n",
        "        retencion = 0.33 * taxable_base + (69 * VALOR_UVT)\n",
        "    elif 640 < uvt <= 945:\n",
        "        retencion = 0.35 * taxable_base + (162 * VALOR_UVT)\n",
        "    elif 945 < uvt <= 2300:\n",
        "        retencion = 0.37 * taxable_base + (268 * VALOR_UVT)\n",
        "    else:\n",
        "        retencion = 0.39 * taxable_base + (770 * VALOR_UVT)\n",
        "    return retencion\n",
        "\n",
        "# Función principal del programa para procesar \"n\" empleados\n",
        "def main():\n",
        "    print(\"=== Gestión de Nómina para Grupo de Empleados ===\\n\")\n",
        "\n",
        "    try:\n",
        "        num_empleados = int(input(\"Ingrese el número de empleados a procesar: \"))  # Número de empleados\n",
        "    except ValueError:\n",
        "        print(\"Error: Ingrese un número válido de empleados.\")\n",
        "        return\n",
        "\n",
        "    # Lista para almacenar los resultados de cada empleado\n",
        "    empleados = []\n",
        "\n",
        "    # Bucle para procesar cada empleado\n",
        "    for i in range(num_empleados):\n",
        "        print(f\"\\n--- Procesando empleado {i+1} ---\")\n",
        "\n",
        "        nombre = input(\"Ingrese el Nombre Completo: \")\n",
        "        cedula = input(\"Ingrese la Cédula: \")\n",
        "\n",
        "        try:\n",
        "            sueldo = float(input(\"Ingrese el Sueldo (en pesos): \"))\n",
        "            dias_laborados = int(input(\"Ingrese la Cantidad de Días Laborados: \"))\n",
        "            hrn = float(input(\"Ingrese las Horas de Recargo Nocturno (HRN): \"))\n",
        "            hed = float(input(\"Ingrese las Horas Extra Diurna (HED): \"))\n",
        "            hen = float(input(\"Ingrese las Horas Extra Nocturna (HEN): \"))\n",
        "            hedd = float(input(\"Ingrese las Horas Extra Dominical Día (HEDD): \"))\n",
        "            hedn = float(input(\"Ingrese las Horas Extra Dominical Nocturna (HEDN): \"))\n",
        "        except ValueError:\n",
        "            print(\"Error: Por favor, ingrese valores numéricos válidos.\")\n",
        "            continue\n",
        "\n",
        "        salario_basico = calcular_salario_basico(sueldo, dias_laborados)\n",
        "        valor_hora = calcular_valor_hora_ordinaria(sueldo)\n",
        "        total_horas_extras, valor_hrn, valor_hed, valor_hen, valor_hedd, valor_hedn = calcular_valor_horas_extras(\n",
        "            valor_hora, hrn, hed, hen, hedd, hedn)\n",
        "\n",
        "        recibe_auxilio = sueldo < (2 * SALARIO_MINIMO)\n",
        "        auxilio = AUXILIO_TRANSPORTE if recibe_auxilio else 0\n",
        "        total_devengado = salario_basico + total_horas_extras + auxilio\n",
        "\n",
        "        base_deduccion = total_devengado - auxilio\n",
        "        deduccion_salud = base_deduccion * 0.04\n",
        "        deduccion_pension = base_deduccion * 0.04\n",
        "        fondo = calcular_fondo_solidaridad_subsistencia(total_devengado)\n",
        "\n",
        "        taxable_base = (total_devengado - deduccion_salud - deduccion_pension - fondo) * 0.75\n",
        "        uvt = taxable_base / VALOR_UVT\n",
        "        retencion_fuente = calcular_retencion_fuente(taxable_base, uvt)\n",
        "        total_descuentos = deduccion_salud + deduccion_pension + fondo + retencion_fuente\n",
        "        salario_neto = total_devengado - total_descuentos\n",
        "\n",
        "        # Almacenamos los resultados en un diccionario para cada empleado\n",
        "        empleado = {\n",
        "            \"nombre\": nombre,\n",
        "            \"cedula\": cedula,\n",
        "            \"salario_basico\": salario_basico,\n",
        "            \"auxilio_transporte\": auxilio,\n",
        "            \"total_horas_extras\": total_horas_extras,\n",
        "            \"deduccion_salud\": deduccion_salud,\n",
        "            \"deduccion_pension\": deduccion_pension,\n",
        "            \"fondo_solidaridad\": fondo,\n",
        "            \"retencion_fuente\": retencion_fuente,\n",
        "            \"total_descuentos\": total_descuentos,\n",
        "            \"salario_neto\": salario_neto\n",
        "        }\n",
        "\n",
        "        # Agregamos el empleado a la lista\n",
        "        empleados.append(empleado)\n",
        "\n",
        "    # Impresión de resultados para cada empleado\n",
        "    for empleado in empleados:\n",
        "        print(f\"\\n=== Resumen de Nómina para {empleado['nombre']} ===\")\n",
        "        print(f\"Cédula: {empleado['cedula']}\")\n",
        "        print(f\"Salario Básico: ${empleado['salario_basico']:,.2f}\")\n",
        "        print(f\"Auxilio de Transporte: ${empleado['auxilio_transporte']:,.2f}\")\n",
        "        print(f\"Total Horas Extras: ${empleado['total_horas_extras']:,.2f}\")\n",
        "        print(f\"Deducción por Salud: ${empleado['deduccion_salud']:,.2f}\")\n",
        "        print(f\"Deducción por Pensión: ${empleado['deduccion_pension']:,.2f}\")\n",
        "        print(f\"Fondo de Solidaridad: ${empleado['fondo_solidaridad']:,.2f}\")\n",
        "        print(f\"Retención en la Fuente: ${empleado['retencion_fuente']:,.2f}\")\n",
        "        print(f\"Total Descuentos: ${empleado['total_descuentos']:,.2f}\")\n",
        "        print(f\"Salario Neto a Pagar: ${empleado['salario_neto']:,.2f}\")\n",
        "\n",
        "# Ejecutar la función principal\n",
        "if __name__ == \"__main__\":\n",
        "    main()\n"
      ]
    },
    {
      "cell_type": "markdown",
      "source": [
        "**PASOS PARA LA INCORPORACIÓN DE LA NUEVA CONDICIÓN**"
      ],
      "metadata": {
        "id": "sdtmgxXCv7jt"
      }
    },
    {
      "cell_type": "markdown",
      "source": [
        "1. Se acondiciona el codigo para para que el usuario pueda ingresar el número de empleados que procesara a través de las diferentes instrucciones.\n",
        "\n",
        "Este número se almacena en la variable num_empleados."
      ],
      "metadata": {
        "id": "e54o-YT0qEVx"
      }
    },
    {
      "cell_type": "code",
      "source": [
        "num_empleados = int(input(\"Ingrese el número de empleados a procesar: \"))"
      ],
      "metadata": {
        "id": "f3tNviyeuK-G"
      },
      "execution_count": null,
      "outputs": []
    },
    {
      "cell_type": "markdown",
      "source": [
        "2. Se crea una lista para almacenar los empleados, esta lista se crea vacía y la llamo empleados, esta lista almacenará los resultados del cálculo de nómina de cada empleado:\n",
        "\n",
        "*Cada empleado será representado por un diccionario que contendrá toda su información: nombre, cédula, salario, horas extras, deducciones, retención, etc.*"
      ],
      "metadata": {
        "id": "XN2T-mOQqLR4"
      }
    },
    {
      "cell_type": "code",
      "source": [
        "empleados = []"
      ],
      "metadata": {
        "id": "S54cb97ouGWW"
      },
      "execution_count": null,
      "outputs": []
    },
    {
      "cell_type": "markdown",
      "source": [
        "3. Creamos un Ciclo **for** para iterar sobre cada empleado El código utiliza un bucle for para procesar a cada uno de los empleados. Este ciclo se repite tantas veces como el número de empleados ingresado por el usuario."
      ],
      "metadata": {
        "id": "5EZoraE8t716"
      }
    },
    {
      "cell_type": "code",
      "source": [
        "for i in range(num_empleados):\n",
        "    print(f\"\\n--- Procesando empleado {i+1} ---\")"
      ],
      "metadata": {
        "id": "1Aqnv2HsuQa7"
      },
      "execution_count": null,
      "outputs": []
    },
    {
      "cell_type": "markdown",
      "source": [
        "Dentro de este ciclo, se ejecutan todos los cálculos para cada empleado, y el índice i permite mostrar el número del empleado que se está procesando."
      ],
      "metadata": {
        "id": "fqdJ4Ue2uV4z"
      }
    },
    {
      "cell_type": "markdown",
      "source": [
        "4. Se captura de datos para cada empleado El programa solicita los datos de cada empleado dentro del ciclo. Se recogen los siguientes datos:\n",
        "\n",
        "- Nombre del empleado\n",
        "- Cédula\n",
        "- Sueldo\n",
        "- Días laborados\n",
        "- Horas extras y recargos nocturnos"
      ],
      "metadata": {
        "id": "mCx7ERtHufQn"
      }
    },
    {
      "cell_type": "code",
      "source": [
        "nombre = input(\"Ingrese el Nombre Completo: \")\n",
        "cedula = input(\"Ingrese la Cédula: \")\n",
        "sueldo = float(input(\"Ingrese el Sueldo (en pesos): \"))\n",
        "dias_laborados = int(input(\"Ingrese la Cantidad de Días Laborados: \"))\n",
        "hrn = float(input(\"Ingrese las Horas de Recargo Nocturno (HRN): \"))\n",
        "hed = float(input(\"Ingrese las Horas Extra Diurna (HED): \"))\n",
        "hen = float(input(\"Ingrese las Horas Extra Nocturna (HEN): \"))\n",
        "hedd = float(input(\"Ingrese las Horas Extra Dominical Día (HEDD): \"))\n",
        "hedn = float(input(\"Ingrese las Horas Extra Dominical Nocturna (HEDN): \"))"
      ],
      "metadata": {
        "id": "BbnVmPkyukpe"
      },
      "execution_count": null,
      "outputs": []
    },
    {
      "cell_type": "markdown",
      "source": [
        "5. se realizan los Cálculos para cada empleado\n",
        "Una vez que se capturan los datos de entrada, se utilizan las funciones definidas previamente en el codigo para realizar los cálculos correspondientes. Algunos de estos cálculos son:\n",
        "\n",
        "- Salario básico: Proporcional a los días trabajados.\n",
        "- Valor de las horas extras: Se calculan en función de las horas trabajadas y el tipo de horas extras (diurnas, nocturnas, dominicales, etc.).\n",
        "- Auxilio de transporte: Aplica si el salario es menor a dos salarios mínimos.\n",
        "- Deducciones: Salud, pensión y fondo de solidaridad.\n",
        "- Retención en la fuente: Basada en el valor devengado menos las deducciones."
      ],
      "metadata": {
        "id": "lbgIX6TVuwRm"
      }
    },
    {
      "cell_type": "code",
      "source": [
        "total_horas_extras, valor_hrn, valor_hed, valor_hen, valor_hedd, valor_hedn = calcular_valor_horas_extras(\n",
        "    valor_hora, hrn, hed, hen, hedd, hedn)"
      ],
      "metadata": {
        "id": "QMS0c4sZuv5O"
      },
      "execution_count": null,
      "outputs": []
    },
    {
      "cell_type": "markdown",
      "source": [
        "6. **Almacenamos** los resultados en un diccionario\n",
        "Después de realizar todos los cálculos, se crea un **diccionario** con los datos y resultados del empleado, donde cada clave del diccionario representa un aspecto específico de la nómina de ese empleado (**nombre, cédula, salario básico, deducciones, retención, salario neto, etc.**):"
      ],
      "metadata": {
        "id": "FI58zeNEvEtB"
      }
    },
    {
      "cell_type": "code",
      "source": [
        "empleado = {\n",
        "    \"nombre\": nombre,\n",
        "    \"cedula\": cedula,\n",
        "    \"salario_basico\": salario_basico,\n",
        "    \"auxilio_transporte\": auxilio,\n",
        "    \"total_horas_extras\": total_horas_extras,\n",
        "    \"deduccion_salud\": deduccion_salud,\n",
        "    \"deduccion_pension\": deduccion_pension,\n",
        "    \"fondo_solidaridad\": fondo,\n",
        "    \"retencion_fuente\": retencion_fuente,\n",
        "    \"total_descuentos\": total_descuentos,\n",
        "    \"salario_neto\": salario_neto\n",
        "}"
      ],
      "metadata": {
        "id": "VJnTASbqvYsF"
      },
      "execution_count": null,
      "outputs": []
    },
    {
      "cell_type": "markdown",
      "source": [
        "Este diccionario contiene toda la información del empleado procesado y se agrega a la lista empleados:"
      ],
      "metadata": {
        "id": "q4a7t-uevozl"
      }
    },
    {
      "cell_type": "code",
      "source": [
        "empleados.append(empleado)"
      ],
      "metadata": {
        "id": "Kft1pq8fvrzv"
      },
      "execution_count": null,
      "outputs": []
    },
    {
      "cell_type": "markdown",
      "source": [
        "Impresión de resultados para cada empleado Una vez que el ciclo termina (es decir, se procesaron todos los empleados), el programa recorre nuevamente la lista empleados para mostrar los resultados en pantalla. Esto se hace mediante otro ciclo for:"
      ],
      "metadata": {
        "id": "oTmDUpK8vzTJ"
      }
    },
    {
      "cell_type": "code",
      "source": [
        "for empleado in empleados:\n",
        "    print(f\"\\n=== Resumen de Nómina para {empleado['nombre']} ===\")\n",
        "    print(f\"Cédula: {empleado['cedula']}\")\n",
        "    print(f\"Salario Básico: ${empleado['salario_basico']:,.2f}\")\n",
        "    print(f\"Auxilio de Transporte: ${empleado['auxilio_transporte']:,.2f}\")\n",
        "    print(f\"Total Horas Extras: ${empleado['total_horas_extras']:,.2f}\")\n",
        "    print(f\"Deducción por Salud: ${empleado['deduccion_salud']:,.2f}\")\n",
        "    print(f\"Deducción por Pensión: ${empleado['deduccion_pension']:,.2f}\")\n",
        "    print(f\"Fondo de Solidaridad: ${empleado['fondo_solidaridad']:,.2f}\")\n",
        "    print(f\"Retención en la Fuente: ${empleado['retencion_fuente']:,.2f}\")\n",
        "    print(f\"Total Descuentos: ${empleado['total_descuentos']:,.2f}\")\n",
        "    print(f\"Salario Neto a Pagar: ${empleado['salario_neto']:,.2f}\")"
      ],
      "metadata": {
        "id": "Te8_mv59v2gV"
      },
      "execution_count": null,
      "outputs": []
    }
  ]
}