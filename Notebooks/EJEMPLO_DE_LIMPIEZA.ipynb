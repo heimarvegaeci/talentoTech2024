{
  "nbformat": 4,
  "nbformat_minor": 0,
  "metadata": {
    "colab": {
      "provenance": []
    },
    "kernelspec": {
      "name": "python3",
      "display_name": "Python 3"
    },
    "language_info": {
      "name": "python"
    }
  },
  "cells": [
    {
      "cell_type": "markdown",
      "source": [
        "1. Importar el conjunto de datos: Lo primero que se debe hacer es cargar el conjunto de datos. Los datos pueden estar en diferentes formatos como CSV, Excel, JSON, etc."
      ],
      "metadata": {
        "id": "FCZkVVbyLYxm"
      }
    },
    {
      "cell_type": "code",
      "source": [
        "import pandas as pd\n",
        "# Cargar el archivo CSV en un DataFrame\n",
        "df = pd.read_excel('DATA_CLIMA.xls')\n",
        "# Ver las primeras filas\n",
        "df.head()"
      ],
      "metadata": {
        "id": "s-Aheb7wKlxu",
        "colab": {
          "base_uri": "https://localhost:8080/",
          "height": 330
        },
        "outputId": "268287bc-5026-4e38-c8eb-b3eda0ed032c"
      },
      "execution_count": null,
      "outputs": [
        {
          "output_type": "execute_result",
          "data": {
            "text/plain": [
              "               Estación Provincia Temperatura máxima (ºC)  \\\n",
              "0       Estaca de Bares  A Coruña            13.3 (10:20)   \n",
              "1             As Pontes  A Coruña            11.6 (07:00)   \n",
              "2              A Coruña  A Coruña            13.7 (10:30)   \n",
              "3   A Coruña Aeropuerto  A Coruña            14.1 (11:30)   \n",
              "4  Carballo, Depuradora  A Coruña            13.3 (11:20)   \n",
              "\n",
              "  Temperatura mínima (ºC)  Temperatura media (ºC) Racha (km/h)  \\\n",
              "0             7.3 (23:30)                    10.3  121 (00:10)   \n",
              "1             6.0 (23:30)                     8.8          NaN   \n",
              "2             8.9 (22:00)                    11.3   67 (05:30)   \n",
              "3             7.9 (23:00)                    11.0   54 (00:10)   \n",
              "4             7.6 (22:50)                    10.5          NaN   \n",
              "\n",
              "  Velocidad máxima (km/h)  Precipitación 00-24h (mm)  \\\n",
              "0              89 (00:10)                        5.2   \n",
              "1                     NaN                       48.6   \n",
              "2              37 (05:30)                       17.2   \n",
              "3              30 (00:10)                       11.4   \n",
              "4                     NaN                       19.8   \n",
              "\n",
              "   Precipitación 00-06h (mm)  Precipitación 06-12h (mm)  \\\n",
              "0                        2.8                        0.0   \n",
              "1                       24.2                       16.0   \n",
              "2                        6.0                        9.2   \n",
              "3                        6.8                        1.6   \n",
              "4                       13.0                        5.4   \n",
              "\n",
              "   Precipitación 12-18h (mm)  Precipitación 18-24h (mm)  \n",
              "0                        0.2                        2.2  \n",
              "1                        5.8                        2.6  \n",
              "2                        0.6                        1.4  \n",
              "3                        0.7                        2.3  \n",
              "4                        0.4                        1.0  "
            ],
            "text/html": [
              "\n",
              "  <div id=\"df-57e5ed97-69d7-4613-9935-45bbc2368e06\" class=\"colab-df-container\">\n",
              "    <div>\n",
              "<style scoped>\n",
              "    .dataframe tbody tr th:only-of-type {\n",
              "        vertical-align: middle;\n",
              "    }\n",
              "\n",
              "    .dataframe tbody tr th {\n",
              "        vertical-align: top;\n",
              "    }\n",
              "\n",
              "    .dataframe thead th {\n",
              "        text-align: right;\n",
              "    }\n",
              "</style>\n",
              "<table border=\"1\" class=\"dataframe\">\n",
              "  <thead>\n",
              "    <tr style=\"text-align: right;\">\n",
              "      <th></th>\n",
              "      <th>Estación</th>\n",
              "      <th>Provincia</th>\n",
              "      <th>Temperatura máxima (ºC)</th>\n",
              "      <th>Temperatura mínima (ºC)</th>\n",
              "      <th>Temperatura media (ºC)</th>\n",
              "      <th>Racha (km/h)</th>\n",
              "      <th>Velocidad máxima (km/h)</th>\n",
              "      <th>Precipitación 00-24h (mm)</th>\n",
              "      <th>Precipitación 00-06h (mm)</th>\n",
              "      <th>Precipitación 06-12h (mm)</th>\n",
              "      <th>Precipitación 12-18h (mm)</th>\n",
              "      <th>Precipitación 18-24h (mm)</th>\n",
              "    </tr>\n",
              "  </thead>\n",
              "  <tbody>\n",
              "    <tr>\n",
              "      <th>0</th>\n",
              "      <td>Estaca de Bares</td>\n",
              "      <td>A Coruña</td>\n",
              "      <td>13.3 (10:20)</td>\n",
              "      <td>7.3 (23:30)</td>\n",
              "      <td>10.3</td>\n",
              "      <td>121 (00:10)</td>\n",
              "      <td>89 (00:10)</td>\n",
              "      <td>5.2</td>\n",
              "      <td>2.8</td>\n",
              "      <td>0.0</td>\n",
              "      <td>0.2</td>\n",
              "      <td>2.2</td>\n",
              "    </tr>\n",
              "    <tr>\n",
              "      <th>1</th>\n",
              "      <td>As Pontes</td>\n",
              "      <td>A Coruña</td>\n",
              "      <td>11.6 (07:00)</td>\n",
              "      <td>6.0 (23:30)</td>\n",
              "      <td>8.8</td>\n",
              "      <td>NaN</td>\n",
              "      <td>NaN</td>\n",
              "      <td>48.6</td>\n",
              "      <td>24.2</td>\n",
              "      <td>16.0</td>\n",
              "      <td>5.8</td>\n",
              "      <td>2.6</td>\n",
              "    </tr>\n",
              "    <tr>\n",
              "      <th>2</th>\n",
              "      <td>A Coruña</td>\n",
              "      <td>A Coruña</td>\n",
              "      <td>13.7 (10:30)</td>\n",
              "      <td>8.9 (22:00)</td>\n",
              "      <td>11.3</td>\n",
              "      <td>67 (05:30)</td>\n",
              "      <td>37 (05:30)</td>\n",
              "      <td>17.2</td>\n",
              "      <td>6.0</td>\n",
              "      <td>9.2</td>\n",
              "      <td>0.6</td>\n",
              "      <td>1.4</td>\n",
              "    </tr>\n",
              "    <tr>\n",
              "      <th>3</th>\n",
              "      <td>A Coruña Aeropuerto</td>\n",
              "      <td>A Coruña</td>\n",
              "      <td>14.1 (11:30)</td>\n",
              "      <td>7.9 (23:00)</td>\n",
              "      <td>11.0</td>\n",
              "      <td>54 (00:10)</td>\n",
              "      <td>30 (00:10)</td>\n",
              "      <td>11.4</td>\n",
              "      <td>6.8</td>\n",
              "      <td>1.6</td>\n",
              "      <td>0.7</td>\n",
              "      <td>2.3</td>\n",
              "    </tr>\n",
              "    <tr>\n",
              "      <th>4</th>\n",
              "      <td>Carballo, Depuradora</td>\n",
              "      <td>A Coruña</td>\n",
              "      <td>13.3 (11:20)</td>\n",
              "      <td>7.6 (22:50)</td>\n",
              "      <td>10.5</td>\n",
              "      <td>NaN</td>\n",
              "      <td>NaN</td>\n",
              "      <td>19.8</td>\n",
              "      <td>13.0</td>\n",
              "      <td>5.4</td>\n",
              "      <td>0.4</td>\n",
              "      <td>1.0</td>\n",
              "    </tr>\n",
              "  </tbody>\n",
              "</table>\n",
              "</div>\n",
              "    <div class=\"colab-df-buttons\">\n",
              "\n",
              "  <div class=\"colab-df-container\">\n",
              "    <button class=\"colab-df-convert\" onclick=\"convertToInteractive('df-57e5ed97-69d7-4613-9935-45bbc2368e06')\"\n",
              "            title=\"Convert this dataframe to an interactive table.\"\n",
              "            style=\"display:none;\">\n",
              "\n",
              "  <svg xmlns=\"http://www.w3.org/2000/svg\" height=\"24px\" viewBox=\"0 -960 960 960\">\n",
              "    <path d=\"M120-120v-720h720v720H120Zm60-500h600v-160H180v160Zm220 220h160v-160H400v160Zm0 220h160v-160H400v160ZM180-400h160v-160H180v160Zm440 0h160v-160H620v160ZM180-180h160v-160H180v160Zm440 0h160v-160H620v160Z\"/>\n",
              "  </svg>\n",
              "    </button>\n",
              "\n",
              "  <style>\n",
              "    .colab-df-container {\n",
              "      display:flex;\n",
              "      gap: 12px;\n",
              "    }\n",
              "\n",
              "    .colab-df-convert {\n",
              "      background-color: #E8F0FE;\n",
              "      border: none;\n",
              "      border-radius: 50%;\n",
              "      cursor: pointer;\n",
              "      display: none;\n",
              "      fill: #1967D2;\n",
              "      height: 32px;\n",
              "      padding: 0 0 0 0;\n",
              "      width: 32px;\n",
              "    }\n",
              "\n",
              "    .colab-df-convert:hover {\n",
              "      background-color: #E2EBFA;\n",
              "      box-shadow: 0px 1px 2px rgba(60, 64, 67, 0.3), 0px 1px 3px 1px rgba(60, 64, 67, 0.15);\n",
              "      fill: #174EA6;\n",
              "    }\n",
              "\n",
              "    .colab-df-buttons div {\n",
              "      margin-bottom: 4px;\n",
              "    }\n",
              "\n",
              "    [theme=dark] .colab-df-convert {\n",
              "      background-color: #3B4455;\n",
              "      fill: #D2E3FC;\n",
              "    }\n",
              "\n",
              "    [theme=dark] .colab-df-convert:hover {\n",
              "      background-color: #434B5C;\n",
              "      box-shadow: 0px 1px 3px 1px rgba(0, 0, 0, 0.15);\n",
              "      filter: drop-shadow(0px 1px 2px rgba(0, 0, 0, 0.3));\n",
              "      fill: #FFFFFF;\n",
              "    }\n",
              "  </style>\n",
              "\n",
              "    <script>\n",
              "      const buttonEl =\n",
              "        document.querySelector('#df-57e5ed97-69d7-4613-9935-45bbc2368e06 button.colab-df-convert');\n",
              "      buttonEl.style.display =\n",
              "        google.colab.kernel.accessAllowed ? 'block' : 'none';\n",
              "\n",
              "      async function convertToInteractive(key) {\n",
              "        const element = document.querySelector('#df-57e5ed97-69d7-4613-9935-45bbc2368e06');\n",
              "        const dataTable =\n",
              "          await google.colab.kernel.invokeFunction('convertToInteractive',\n",
              "                                                    [key], {});\n",
              "        if (!dataTable) return;\n",
              "\n",
              "        const docLinkHtml = 'Like what you see? Visit the ' +\n",
              "          '<a target=\"_blank\" href=https://colab.research.google.com/notebooks/data_table.ipynb>data table notebook</a>'\n",
              "          + ' to learn more about interactive tables.';\n",
              "        element.innerHTML = '';\n",
              "        dataTable['output_type'] = 'display_data';\n",
              "        await google.colab.output.renderOutput(dataTable, element);\n",
              "        const docLink = document.createElement('div');\n",
              "        docLink.innerHTML = docLinkHtml;\n",
              "        element.appendChild(docLink);\n",
              "      }\n",
              "    </script>\n",
              "  </div>\n",
              "\n",
              "\n",
              "<div id=\"df-6c181b33-dca2-4a0b-a18a-907f8b98d702\">\n",
              "  <button class=\"colab-df-quickchart\" onclick=\"quickchart('df-6c181b33-dca2-4a0b-a18a-907f8b98d702')\"\n",
              "            title=\"Suggest charts\"\n",
              "            style=\"display:none;\">\n",
              "\n",
              "<svg xmlns=\"http://www.w3.org/2000/svg\" height=\"24px\"viewBox=\"0 0 24 24\"\n",
              "     width=\"24px\">\n",
              "    <g>\n",
              "        <path d=\"M19 3H5c-1.1 0-2 .9-2 2v14c0 1.1.9 2 2 2h14c1.1 0 2-.9 2-2V5c0-1.1-.9-2-2-2zM9 17H7v-7h2v7zm4 0h-2V7h2v10zm4 0h-2v-4h2v4z\"/>\n",
              "    </g>\n",
              "</svg>\n",
              "  </button>\n",
              "\n",
              "<style>\n",
              "  .colab-df-quickchart {\n",
              "      --bg-color: #E8F0FE;\n",
              "      --fill-color: #1967D2;\n",
              "      --hover-bg-color: #E2EBFA;\n",
              "      --hover-fill-color: #174EA6;\n",
              "      --disabled-fill-color: #AAA;\n",
              "      --disabled-bg-color: #DDD;\n",
              "  }\n",
              "\n",
              "  [theme=dark] .colab-df-quickchart {\n",
              "      --bg-color: #3B4455;\n",
              "      --fill-color: #D2E3FC;\n",
              "      --hover-bg-color: #434B5C;\n",
              "      --hover-fill-color: #FFFFFF;\n",
              "      --disabled-bg-color: #3B4455;\n",
              "      --disabled-fill-color: #666;\n",
              "  }\n",
              "\n",
              "  .colab-df-quickchart {\n",
              "    background-color: var(--bg-color);\n",
              "    border: none;\n",
              "    border-radius: 50%;\n",
              "    cursor: pointer;\n",
              "    display: none;\n",
              "    fill: var(--fill-color);\n",
              "    height: 32px;\n",
              "    padding: 0;\n",
              "    width: 32px;\n",
              "  }\n",
              "\n",
              "  .colab-df-quickchart:hover {\n",
              "    background-color: var(--hover-bg-color);\n",
              "    box-shadow: 0 1px 2px rgba(60, 64, 67, 0.3), 0 1px 3px 1px rgba(60, 64, 67, 0.15);\n",
              "    fill: var(--button-hover-fill-color);\n",
              "  }\n",
              "\n",
              "  .colab-df-quickchart-complete:disabled,\n",
              "  .colab-df-quickchart-complete:disabled:hover {\n",
              "    background-color: var(--disabled-bg-color);\n",
              "    fill: var(--disabled-fill-color);\n",
              "    box-shadow: none;\n",
              "  }\n",
              "\n",
              "  .colab-df-spinner {\n",
              "    border: 2px solid var(--fill-color);\n",
              "    border-color: transparent;\n",
              "    border-bottom-color: var(--fill-color);\n",
              "    animation:\n",
              "      spin 1s steps(1) infinite;\n",
              "  }\n",
              "\n",
              "  @keyframes spin {\n",
              "    0% {\n",
              "      border-color: transparent;\n",
              "      border-bottom-color: var(--fill-color);\n",
              "      border-left-color: var(--fill-color);\n",
              "    }\n",
              "    20% {\n",
              "      border-color: transparent;\n",
              "      border-left-color: var(--fill-color);\n",
              "      border-top-color: var(--fill-color);\n",
              "    }\n",
              "    30% {\n",
              "      border-color: transparent;\n",
              "      border-left-color: var(--fill-color);\n",
              "      border-top-color: var(--fill-color);\n",
              "      border-right-color: var(--fill-color);\n",
              "    }\n",
              "    40% {\n",
              "      border-color: transparent;\n",
              "      border-right-color: var(--fill-color);\n",
              "      border-top-color: var(--fill-color);\n",
              "    }\n",
              "    60% {\n",
              "      border-color: transparent;\n",
              "      border-right-color: var(--fill-color);\n",
              "    }\n",
              "    80% {\n",
              "      border-color: transparent;\n",
              "      border-right-color: var(--fill-color);\n",
              "      border-bottom-color: var(--fill-color);\n",
              "    }\n",
              "    90% {\n",
              "      border-color: transparent;\n",
              "      border-bottom-color: var(--fill-color);\n",
              "    }\n",
              "  }\n",
              "</style>\n",
              "\n",
              "  <script>\n",
              "    async function quickchart(key) {\n",
              "      const quickchartButtonEl =\n",
              "        document.querySelector('#' + key + ' button');\n",
              "      quickchartButtonEl.disabled = true;  // To prevent multiple clicks.\n",
              "      quickchartButtonEl.classList.add('colab-df-spinner');\n",
              "      try {\n",
              "        const charts = await google.colab.kernel.invokeFunction(\n",
              "            'suggestCharts', [key], {});\n",
              "      } catch (error) {\n",
              "        console.error('Error during call to suggestCharts:', error);\n",
              "      }\n",
              "      quickchartButtonEl.classList.remove('colab-df-spinner');\n",
              "      quickchartButtonEl.classList.add('colab-df-quickchart-complete');\n",
              "    }\n",
              "    (() => {\n",
              "      let quickchartButtonEl =\n",
              "        document.querySelector('#df-6c181b33-dca2-4a0b-a18a-907f8b98d702 button');\n",
              "      quickchartButtonEl.style.display =\n",
              "        google.colab.kernel.accessAllowed ? 'block' : 'none';\n",
              "    })();\n",
              "  </script>\n",
              "</div>\n",
              "\n",
              "    </div>\n",
              "  </div>\n"
            ],
            "application/vnd.google.colaboratory.intrinsic+json": {
              "type": "dataframe",
              "variable_name": "df",
              "summary": "{\n  \"name\": \"df\",\n  \"rows\": 797,\n  \"fields\": [\n    {\n      \"column\": \"Estaci\\u00f3n\",\n      \"properties\": {\n        \"dtype\": \"string\",\n        \"num_unique_values\": 796,\n        \"samples\": [\n          \"Sta.Cruz de Tenerife\",\n          \"Pe\\u00f1ausende\",\n          \"Pilo\\u00f1a\"\n        ],\n        \"semantic_type\": \"\",\n        \"description\": \"\"\n      }\n    },\n    {\n      \"column\": \"Provincia\",\n      \"properties\": {\n        \"dtype\": \"category\",\n        \"num_unique_values\": 52,\n        \"samples\": [\n          \"Gipuzkoa\",\n          \"Segovia\",\n          \"Toledo\"\n        ],\n        \"semantic_type\": \"\",\n        \"description\": \"\"\n      }\n    },\n    {\n      \"column\": \"Temperatura m\\u00e1xima (\\u00baC)\",\n      \"properties\": {\n        \"dtype\": \"string\",\n        \"num_unique_values\": 714,\n        \"samples\": [\n          \"17.5 (14:00)\",\n          \"10.1 (15:40)\",\n          \"16.0 (14:50)\"\n        ],\n        \"semantic_type\": \"\",\n        \"description\": \"\"\n      }\n    },\n    {\n      \"column\": \"Temperatura m\\u00ednima (\\u00baC)\",\n      \"properties\": {\n        \"dtype\": \"string\",\n        \"num_unique_values\": 610,\n        \"samples\": [\n          \"3.6 (07:10)\",\n          \"4.8 (00:00)\",\n          \"10.8 (23:40)\"\n        ],\n        \"semantic_type\": \"\",\n        \"description\": \"\"\n      }\n    },\n    {\n      \"column\": \"Temperatura media (\\u00baC)\",\n      \"properties\": {\n        \"dtype\": \"number\",\n        \"std\": 3.769043382810897,\n        \"min\": -0.6,\n        \"max\": 19.5,\n        \"num_unique_values\": 165,\n        \"samples\": [\n          19.1,\n          1.0,\n          17.7\n        ],\n        \"semantic_type\": \"\",\n        \"description\": \"\"\n      }\n    },\n    {\n      \"column\": \"Racha (km/h)\",\n      \"properties\": {\n        \"dtype\": \"string\",\n        \"num_unique_values\": 609,\n        \"samples\": [\n          \"10 (15:20)\",\n          \"28 (00:50)\",\n          \"70 (10:40)\"\n        ],\n        \"semantic_type\": \"\",\n        \"description\": \"\"\n      }\n    },\n    {\n      \"column\": \"Velocidad m\\u00e1xima (km/h)\",\n      \"properties\": {\n        \"dtype\": \"string\",\n        \"num_unique_values\": 601,\n        \"samples\": [\n          \"27 (14:40)\",\n          \"32 (17:50)\",\n          \"28 (14:00)\"\n        ],\n        \"semantic_type\": \"\",\n        \"description\": \"\"\n      }\n    },\n    {\n      \"column\": \"Precipitaci\\u00f3n 00-24h (mm)\",\n      \"properties\": {\n        \"dtype\": \"number\",\n        \"std\": 15.125738757363766,\n        \"min\": 0.0,\n        \"max\": 132.8,\n        \"num_unique_values\": 213,\n        \"samples\": [\n          23.9,\n          52.8,\n          20.0\n        ],\n        \"semantic_type\": \"\",\n        \"description\": \"\"\n      }\n    },\n    {\n      \"column\": \"Precipitaci\\u00f3n 00-06h (mm)\",\n      \"properties\": {\n        \"dtype\": \"number\",\n        \"std\": 5.606085137896607,\n        \"min\": 0.0,\n        \"max\": 47.6,\n        \"num_unique_values\": 116,\n        \"samples\": [\n          3.9,\n          13.0,\n          1.8\n        ],\n        \"semantic_type\": \"\",\n        \"description\": \"\"\n      }\n    },\n    {\n      \"column\": \"Precipitaci\\u00f3n 06-12h (mm)\",\n      \"properties\": {\n        \"dtype\": \"number\",\n        \"std\": 3.889366557396721,\n        \"min\": 0.0,\n        \"max\": 36.4,\n        \"num_unique_values\": 89,\n        \"samples\": [\n          36.4,\n          3.7,\n          0.8\n        ],\n        \"semantic_type\": \"\",\n        \"description\": \"\"\n      }\n    },\n    {\n      \"column\": \"Precipitaci\\u00f3n 12-18h (mm)\",\n      \"properties\": {\n        \"dtype\": \"number\",\n        \"std\": 3.4106923065727104,\n        \"min\": 0.0,\n        \"max\": 27.6,\n        \"num_unique_values\": 85,\n        \"samples\": [\n          27.6,\n          0.2,\n          0.3\n        ],\n        \"semantic_type\": \"\",\n        \"description\": \"\"\n      }\n    },\n    {\n      \"column\": \"Precipitaci\\u00f3n 18-24h (mm)\",\n      \"properties\": {\n        \"dtype\": \"number\",\n        \"std\": 6.345245010600696,\n        \"min\": 0.0,\n        \"max\": 41.3,\n        \"num_unique_values\": 119,\n        \"samples\": [\n          5.6,\n          19.5,\n          1.0\n        ],\n        \"semantic_type\": \"\",\n        \"description\": \"\"\n      }\n    }\n  ]\n}"
            }
          },
          "metadata": {},
          "execution_count": 3
        }
      ]
    },
    {
      "cell_type": "markdown",
      "source": [
        "*Exploración inicial del conjunto de datos:* Antes de empezar con la limpieza, es importante inspeccionar los datos para entender su estructura y contenido."
      ],
      "metadata": {
        "id": "fB2PuZFwLfjj"
      }
    },
    {
      "cell_type": "markdown",
      "source": [
        "*Dimensiones del conjunto de datos:*"
      ],
      "metadata": {
        "id": "e0psat16Wkc3"
      }
    },
    {
      "cell_type": "code",
      "source": [
        "df.shape"
      ],
      "metadata": {
        "colab": {
          "base_uri": "https://localhost:8080/"
        },
        "id": "49ftuHKHLLBU",
        "outputId": "31d0ccce-5f4c-4f73-bdf2-641aef044f38"
      },
      "execution_count": null,
      "outputs": [
        {
          "output_type": "execute_result",
          "data": {
            "text/plain": [
              "(797, 12)"
            ]
          },
          "metadata": {},
          "execution_count": 4
        }
      ]
    },
    {
      "cell_type": "markdown",
      "source": [
        "*Descripción de las columnas:*"
      ],
      "metadata": {
        "id": "A5eCnQ4IWpjl"
      }
    },
    {
      "cell_type": "code",
      "source": [
        "df.info()"
      ],
      "metadata": {
        "colab": {
          "base_uri": "https://localhost:8080/"
        },
        "id": "iAxsghFbSRBW",
        "outputId": "fb750c8b-513a-4544-c052-fcf0b66130d5"
      },
      "execution_count": null,
      "outputs": [
        {
          "output_type": "stream",
          "name": "stdout",
          "text": [
            "<class 'pandas.core.frame.DataFrame'>\n",
            "RangeIndex: 797 entries, 0 to 796\n",
            "Data columns (total 12 columns):\n",
            " #   Column                     Non-Null Count  Dtype  \n",
            "---  ------                     --------------  -----  \n",
            " 0   Estación                   797 non-null    object \n",
            " 1   Provincia                  797 non-null    object \n",
            " 2   Temperatura máxima (ºC)    769 non-null    object \n",
            " 3   Temperatura mínima (ºC)    769 non-null    object \n",
            " 4   Temperatura media (ºC)     769 non-null    float64\n",
            " 5   Racha (km/h)               650 non-null    object \n",
            " 6   Velocidad máxima (km/h)    653 non-null    object \n",
            " 7   Precipitación 00-24h (mm)  758 non-null    float64\n",
            " 8   Precipitación 00-06h (mm)  761 non-null    float64\n",
            " 9   Precipitación 06-12h (mm)  762 non-null    float64\n",
            " 10  Precipitación 12-18h (mm)  764 non-null    float64\n",
            " 11  Precipitación 18-24h (mm)  762 non-null    float64\n",
            "dtypes: float64(6), object(6)\n",
            "memory usage: 74.8+ KB\n"
          ]
        }
      ]
    },
    {
      "cell_type": "markdown",
      "source": [
        "*Estadísticas descriptivas:*"
      ],
      "metadata": {
        "id": "Tp2TkcOvWeSP"
      }
    },
    {
      "cell_type": "code",
      "source": [
        "df.describe()  # Estadísticas como media, desviación estándar, mínimos y máximos"
      ],
      "metadata": {
        "colab": {
          "base_uri": "https://localhost:8080/",
          "height": 317
        },
        "id": "3BpKCn8ZWXpu",
        "outputId": "f07a031d-4a66-4253-ec95-b258ad53c695"
      },
      "execution_count": null,
      "outputs": [
        {
          "output_type": "execute_result",
          "data": {
            "text/plain": [
              "       Temperatura media (ºC)  Precipitación 00-24h (mm)  \\\n",
              "count              769.000000                 758.000000   \n",
              "mean                10.441612                   9.384828   \n",
              "std                  3.769043                  15.125739   \n",
              "min                 -0.600000                   0.000000   \n",
              "25%                  8.100000                   0.000000   \n",
              "50%                 10.300000                   3.000000   \n",
              "75%                 13.000000                  11.800000   \n",
              "max                 19.500000                 132.800000   \n",
              "\n",
              "       Precipitación 00-06h (mm)  Precipitación 06-12h (mm)  \\\n",
              "count                 761.000000                 762.000000   \n",
              "mean                    2.973982                   1.813648   \n",
              "std                     5.606085                   3.889367   \n",
              "min                     0.000000                   0.000000   \n",
              "25%                     0.000000                   0.000000   \n",
              "50%                     0.600000                   0.200000   \n",
              "75%                     3.700000                   1.800000   \n",
              "max                    47.600000                  36.400000   \n",
              "\n",
              "       Precipitación 12-18h (mm)  Precipitación 18-24h (mm)  \n",
              "count                 764.000000                 762.000000  \n",
              "mean                    1.411257                   3.151050  \n",
              "std                     3.410692                   6.345245  \n",
              "min                     0.000000                   0.000000  \n",
              "25%                     0.000000                   0.000000  \n",
              "50%                     0.000000                   0.300000  \n",
              "75%                     0.800000                   3.375000  \n",
              "max                    27.600000                  41.300000  "
            ],
            "text/html": [
              "\n",
              "  <div id=\"df-8862e0d8-5b33-4d9b-bd09-59dca00562e0\" class=\"colab-df-container\">\n",
              "    <div>\n",
              "<style scoped>\n",
              "    .dataframe tbody tr th:only-of-type {\n",
              "        vertical-align: middle;\n",
              "    }\n",
              "\n",
              "    .dataframe tbody tr th {\n",
              "        vertical-align: top;\n",
              "    }\n",
              "\n",
              "    .dataframe thead th {\n",
              "        text-align: right;\n",
              "    }\n",
              "</style>\n",
              "<table border=\"1\" class=\"dataframe\">\n",
              "  <thead>\n",
              "    <tr style=\"text-align: right;\">\n",
              "      <th></th>\n",
              "      <th>Temperatura media (ºC)</th>\n",
              "      <th>Precipitación 00-24h (mm)</th>\n",
              "      <th>Precipitación 00-06h (mm)</th>\n",
              "      <th>Precipitación 06-12h (mm)</th>\n",
              "      <th>Precipitación 12-18h (mm)</th>\n",
              "      <th>Precipitación 18-24h (mm)</th>\n",
              "    </tr>\n",
              "  </thead>\n",
              "  <tbody>\n",
              "    <tr>\n",
              "      <th>count</th>\n",
              "      <td>769.000000</td>\n",
              "      <td>758.000000</td>\n",
              "      <td>761.000000</td>\n",
              "      <td>762.000000</td>\n",
              "      <td>764.000000</td>\n",
              "      <td>762.000000</td>\n",
              "    </tr>\n",
              "    <tr>\n",
              "      <th>mean</th>\n",
              "      <td>10.441612</td>\n",
              "      <td>9.384828</td>\n",
              "      <td>2.973982</td>\n",
              "      <td>1.813648</td>\n",
              "      <td>1.411257</td>\n",
              "      <td>3.151050</td>\n",
              "    </tr>\n",
              "    <tr>\n",
              "      <th>std</th>\n",
              "      <td>3.769043</td>\n",
              "      <td>15.125739</td>\n",
              "      <td>5.606085</td>\n",
              "      <td>3.889367</td>\n",
              "      <td>3.410692</td>\n",
              "      <td>6.345245</td>\n",
              "    </tr>\n",
              "    <tr>\n",
              "      <th>min</th>\n",
              "      <td>-0.600000</td>\n",
              "      <td>0.000000</td>\n",
              "      <td>0.000000</td>\n",
              "      <td>0.000000</td>\n",
              "      <td>0.000000</td>\n",
              "      <td>0.000000</td>\n",
              "    </tr>\n",
              "    <tr>\n",
              "      <th>25%</th>\n",
              "      <td>8.100000</td>\n",
              "      <td>0.000000</td>\n",
              "      <td>0.000000</td>\n",
              "      <td>0.000000</td>\n",
              "      <td>0.000000</td>\n",
              "      <td>0.000000</td>\n",
              "    </tr>\n",
              "    <tr>\n",
              "      <th>50%</th>\n",
              "      <td>10.300000</td>\n",
              "      <td>3.000000</td>\n",
              "      <td>0.600000</td>\n",
              "      <td>0.200000</td>\n",
              "      <td>0.000000</td>\n",
              "      <td>0.300000</td>\n",
              "    </tr>\n",
              "    <tr>\n",
              "      <th>75%</th>\n",
              "      <td>13.000000</td>\n",
              "      <td>11.800000</td>\n",
              "      <td>3.700000</td>\n",
              "      <td>1.800000</td>\n",
              "      <td>0.800000</td>\n",
              "      <td>3.375000</td>\n",
              "    </tr>\n",
              "    <tr>\n",
              "      <th>max</th>\n",
              "      <td>19.500000</td>\n",
              "      <td>132.800000</td>\n",
              "      <td>47.600000</td>\n",
              "      <td>36.400000</td>\n",
              "      <td>27.600000</td>\n",
              "      <td>41.300000</td>\n",
              "    </tr>\n",
              "  </tbody>\n",
              "</table>\n",
              "</div>\n",
              "    <div class=\"colab-df-buttons\">\n",
              "\n",
              "  <div class=\"colab-df-container\">\n",
              "    <button class=\"colab-df-convert\" onclick=\"convertToInteractive('df-8862e0d8-5b33-4d9b-bd09-59dca00562e0')\"\n",
              "            title=\"Convert this dataframe to an interactive table.\"\n",
              "            style=\"display:none;\">\n",
              "\n",
              "  <svg xmlns=\"http://www.w3.org/2000/svg\" height=\"24px\" viewBox=\"0 -960 960 960\">\n",
              "    <path d=\"M120-120v-720h720v720H120Zm60-500h600v-160H180v160Zm220 220h160v-160H400v160Zm0 220h160v-160H400v160ZM180-400h160v-160H180v160Zm440 0h160v-160H620v160ZM180-180h160v-160H180v160Zm440 0h160v-160H620v160Z\"/>\n",
              "  </svg>\n",
              "    </button>\n",
              "\n",
              "  <style>\n",
              "    .colab-df-container {\n",
              "      display:flex;\n",
              "      gap: 12px;\n",
              "    }\n",
              "\n",
              "    .colab-df-convert {\n",
              "      background-color: #E8F0FE;\n",
              "      border: none;\n",
              "      border-radius: 50%;\n",
              "      cursor: pointer;\n",
              "      display: none;\n",
              "      fill: #1967D2;\n",
              "      height: 32px;\n",
              "      padding: 0 0 0 0;\n",
              "      width: 32px;\n",
              "    }\n",
              "\n",
              "    .colab-df-convert:hover {\n",
              "      background-color: #E2EBFA;\n",
              "      box-shadow: 0px 1px 2px rgba(60, 64, 67, 0.3), 0px 1px 3px 1px rgba(60, 64, 67, 0.15);\n",
              "      fill: #174EA6;\n",
              "    }\n",
              "\n",
              "    .colab-df-buttons div {\n",
              "      margin-bottom: 4px;\n",
              "    }\n",
              "\n",
              "    [theme=dark] .colab-df-convert {\n",
              "      background-color: #3B4455;\n",
              "      fill: #D2E3FC;\n",
              "    }\n",
              "\n",
              "    [theme=dark] .colab-df-convert:hover {\n",
              "      background-color: #434B5C;\n",
              "      box-shadow: 0px 1px 3px 1px rgba(0, 0, 0, 0.15);\n",
              "      filter: drop-shadow(0px 1px 2px rgba(0, 0, 0, 0.3));\n",
              "      fill: #FFFFFF;\n",
              "    }\n",
              "  </style>\n",
              "\n",
              "    <script>\n",
              "      const buttonEl =\n",
              "        document.querySelector('#df-8862e0d8-5b33-4d9b-bd09-59dca00562e0 button.colab-df-convert');\n",
              "      buttonEl.style.display =\n",
              "        google.colab.kernel.accessAllowed ? 'block' : 'none';\n",
              "\n",
              "      async function convertToInteractive(key) {\n",
              "        const element = document.querySelector('#df-8862e0d8-5b33-4d9b-bd09-59dca00562e0');\n",
              "        const dataTable =\n",
              "          await google.colab.kernel.invokeFunction('convertToInteractive',\n",
              "                                                    [key], {});\n",
              "        if (!dataTable) return;\n",
              "\n",
              "        const docLinkHtml = 'Like what you see? Visit the ' +\n",
              "          '<a target=\"_blank\" href=https://colab.research.google.com/notebooks/data_table.ipynb>data table notebook</a>'\n",
              "          + ' to learn more about interactive tables.';\n",
              "        element.innerHTML = '';\n",
              "        dataTable['output_type'] = 'display_data';\n",
              "        await google.colab.output.renderOutput(dataTable, element);\n",
              "        const docLink = document.createElement('div');\n",
              "        docLink.innerHTML = docLinkHtml;\n",
              "        element.appendChild(docLink);\n",
              "      }\n",
              "    </script>\n",
              "  </div>\n",
              "\n",
              "\n",
              "<div id=\"df-1dd37760-d7dc-4c0f-9477-4fe32bb15696\">\n",
              "  <button class=\"colab-df-quickchart\" onclick=\"quickchart('df-1dd37760-d7dc-4c0f-9477-4fe32bb15696')\"\n",
              "            title=\"Suggest charts\"\n",
              "            style=\"display:none;\">\n",
              "\n",
              "<svg xmlns=\"http://www.w3.org/2000/svg\" height=\"24px\"viewBox=\"0 0 24 24\"\n",
              "     width=\"24px\">\n",
              "    <g>\n",
              "        <path d=\"M19 3H5c-1.1 0-2 .9-2 2v14c0 1.1.9 2 2 2h14c1.1 0 2-.9 2-2V5c0-1.1-.9-2-2-2zM9 17H7v-7h2v7zm4 0h-2V7h2v10zm4 0h-2v-4h2v4z\"/>\n",
              "    </g>\n",
              "</svg>\n",
              "  </button>\n",
              "\n",
              "<style>\n",
              "  .colab-df-quickchart {\n",
              "      --bg-color: #E8F0FE;\n",
              "      --fill-color: #1967D2;\n",
              "      --hover-bg-color: #E2EBFA;\n",
              "      --hover-fill-color: #174EA6;\n",
              "      --disabled-fill-color: #AAA;\n",
              "      --disabled-bg-color: #DDD;\n",
              "  }\n",
              "\n",
              "  [theme=dark] .colab-df-quickchart {\n",
              "      --bg-color: #3B4455;\n",
              "      --fill-color: #D2E3FC;\n",
              "      --hover-bg-color: #434B5C;\n",
              "      --hover-fill-color: #FFFFFF;\n",
              "      --disabled-bg-color: #3B4455;\n",
              "      --disabled-fill-color: #666;\n",
              "  }\n",
              "\n",
              "  .colab-df-quickchart {\n",
              "    background-color: var(--bg-color);\n",
              "    border: none;\n",
              "    border-radius: 50%;\n",
              "    cursor: pointer;\n",
              "    display: none;\n",
              "    fill: var(--fill-color);\n",
              "    height: 32px;\n",
              "    padding: 0;\n",
              "    width: 32px;\n",
              "  }\n",
              "\n",
              "  .colab-df-quickchart:hover {\n",
              "    background-color: var(--hover-bg-color);\n",
              "    box-shadow: 0 1px 2px rgba(60, 64, 67, 0.3), 0 1px 3px 1px rgba(60, 64, 67, 0.15);\n",
              "    fill: var(--button-hover-fill-color);\n",
              "  }\n",
              "\n",
              "  .colab-df-quickchart-complete:disabled,\n",
              "  .colab-df-quickchart-complete:disabled:hover {\n",
              "    background-color: var(--disabled-bg-color);\n",
              "    fill: var(--disabled-fill-color);\n",
              "    box-shadow: none;\n",
              "  }\n",
              "\n",
              "  .colab-df-spinner {\n",
              "    border: 2px solid var(--fill-color);\n",
              "    border-color: transparent;\n",
              "    border-bottom-color: var(--fill-color);\n",
              "    animation:\n",
              "      spin 1s steps(1) infinite;\n",
              "  }\n",
              "\n",
              "  @keyframes spin {\n",
              "    0% {\n",
              "      border-color: transparent;\n",
              "      border-bottom-color: var(--fill-color);\n",
              "      border-left-color: var(--fill-color);\n",
              "    }\n",
              "    20% {\n",
              "      border-color: transparent;\n",
              "      border-left-color: var(--fill-color);\n",
              "      border-top-color: var(--fill-color);\n",
              "    }\n",
              "    30% {\n",
              "      border-color: transparent;\n",
              "      border-left-color: var(--fill-color);\n",
              "      border-top-color: var(--fill-color);\n",
              "      border-right-color: var(--fill-color);\n",
              "    }\n",
              "    40% {\n",
              "      border-color: transparent;\n",
              "      border-right-color: var(--fill-color);\n",
              "      border-top-color: var(--fill-color);\n",
              "    }\n",
              "    60% {\n",
              "      border-color: transparent;\n",
              "      border-right-color: var(--fill-color);\n",
              "    }\n",
              "    80% {\n",
              "      border-color: transparent;\n",
              "      border-right-color: var(--fill-color);\n",
              "      border-bottom-color: var(--fill-color);\n",
              "    }\n",
              "    90% {\n",
              "      border-color: transparent;\n",
              "      border-bottom-color: var(--fill-color);\n",
              "    }\n",
              "  }\n",
              "</style>\n",
              "\n",
              "  <script>\n",
              "    async function quickchart(key) {\n",
              "      const quickchartButtonEl =\n",
              "        document.querySelector('#' + key + ' button');\n",
              "      quickchartButtonEl.disabled = true;  // To prevent multiple clicks.\n",
              "      quickchartButtonEl.classList.add('colab-df-spinner');\n",
              "      try {\n",
              "        const charts = await google.colab.kernel.invokeFunction(\n",
              "            'suggestCharts', [key], {});\n",
              "      } catch (error) {\n",
              "        console.error('Error during call to suggestCharts:', error);\n",
              "      }\n",
              "      quickchartButtonEl.classList.remove('colab-df-spinner');\n",
              "      quickchartButtonEl.classList.add('colab-df-quickchart-complete');\n",
              "    }\n",
              "    (() => {\n",
              "      let quickchartButtonEl =\n",
              "        document.querySelector('#df-1dd37760-d7dc-4c0f-9477-4fe32bb15696 button');\n",
              "      quickchartButtonEl.style.display =\n",
              "        google.colab.kernel.accessAllowed ? 'block' : 'none';\n",
              "    })();\n",
              "  </script>\n",
              "</div>\n",
              "\n",
              "    </div>\n",
              "  </div>\n"
            ],
            "application/vnd.google.colaboratory.intrinsic+json": {
              "type": "dataframe",
              "summary": "{\n  \"name\": \"df\",\n  \"rows\": 8,\n  \"fields\": [\n    {\n      \"column\": \"Temperatura media (\\u00baC)\",\n      \"properties\": {\n        \"dtype\": \"number\",\n        \"std\": 268.69075194859107,\n        \"min\": -0.6,\n        \"max\": 769.0,\n        \"num_unique_values\": 8,\n        \"samples\": [\n          10.441612483745123,\n          10.3,\n          769.0\n        ],\n        \"semantic_type\": \"\",\n        \"description\": \"\"\n      }\n    },\n    {\n      \"column\": \"Precipitaci\\u00f3n 00-24h (mm)\",\n      \"properties\": {\n        \"dtype\": \"number\",\n        \"std\": 263.09333883197627,\n        \"min\": 0.0,\n        \"max\": 758.0,\n        \"num_unique_values\": 7,\n        \"samples\": [\n          758.0,\n          9.384828496042216,\n          11.8\n        ],\n        \"semantic_type\": \"\",\n        \"description\": \"\"\n      }\n    },\n    {\n      \"column\": \"Precipitaci\\u00f3n 00-06h (mm)\",\n      \"properties\": {\n        \"dtype\": \"number\",\n        \"std\": 266.48167861185374,\n        \"min\": 0.0,\n        \"max\": 761.0,\n        \"num_unique_values\": 7,\n        \"samples\": [\n          761.0,\n          2.973981603153745,\n          3.7\n        ],\n        \"semantic_type\": \"\",\n        \"description\": \"\"\n      }\n    },\n    {\n      \"column\": \"Precipitaci\\u00f3n 06-12h (mm)\",\n      \"properties\": {\n        \"dtype\": \"number\",\n        \"std\": 267.4657248197008,\n        \"min\": 0.0,\n        \"max\": 762.0,\n        \"num_unique_values\": 7,\n        \"samples\": [\n          762.0,\n          1.8136482939632546,\n          1.8\n        ],\n        \"semantic_type\": \"\",\n        \"description\": \"\"\n      }\n    },\n    {\n      \"column\": \"Precipitaci\\u00f3n 12-18h (mm)\",\n      \"properties\": {\n        \"dtype\": \"number\",\n        \"std\": 268.6013163463134,\n        \"min\": 0.0,\n        \"max\": 764.0,\n        \"num_unique_values\": 6,\n        \"samples\": [\n          764.0,\n          1.411256544502618,\n          27.6\n        ],\n        \"semantic_type\": \"\",\n        \"description\": \"\"\n      }\n    },\n    {\n      \"column\": \"Precipitaci\\u00f3n 18-24h (mm)\",\n      \"properties\": {\n        \"dtype\": \"number\",\n        \"std\": 267.01610169593874,\n        \"min\": 0.0,\n        \"max\": 762.0,\n        \"num_unique_values\": 7,\n        \"samples\": [\n          762.0,\n          3.151049868766404,\n          3.375\n        ],\n        \"semantic_type\": \"\",\n        \"description\": \"\"\n      }\n    }\n  ]\n}"
            }
          },
          "metadata": {},
          "execution_count": 6
        }
      ]
    },
    {
      "cell_type": "markdown",
      "source": [
        "**LIMPIEZA DE LOS DATOS**"
      ],
      "metadata": {
        "id": "cm9YObxxYgfJ"
      }
    },
    {
      "cell_type": "markdown",
      "source": [
        "**Limpieza de datos**\n",
        "\n",
        "Una parte importante del proceso de obtención de datos es limpiar su contenido para que sea adecuado a nuestras necesidades y para hacerlos mas cómodos de usar.\n",
        "\n",
        "Podemos empezar renombrando las columnas para que sea mas sencillo usarlas y ocupen menos espacio en pantalla"
      ],
      "metadata": {
        "id": "tJrqvs3-Ynet"
      }
    },
    {
      "cell_type": "code",
      "source": [
        "df=df.rename(columns={'Estación': 'estacion','Provincia':'provincia','Temperatura máxima (ºC)':'temp_max','Temperatura mínima (ºC)':'temp_min','Temperatura media (ºC)':'temp_med','Racha (km/h)':'viento_racha','Velocidad máxima (km/h)':'viento_vel_max','Precipitación 00-24h (mm)':'prec_dia','Precipitación 00-06h (mm)':'prec_0_6h','Precipitación 06-12h (mm)':'prec_6_12h','Precipitación 12-18h (mm)':'prec_12_18h','Precipitación 18-24h (mm)':'prec_18_24h','source_file':'fecha'})\n",
        "df.head(1)"
      ],
      "metadata": {
        "colab": {
          "base_uri": "https://localhost:8080/",
          "height": 118
        },
        "id": "3lf97ZYlYYNp",
        "outputId": "a227f9a1-7d25-4590-b955-5a5c9254e610"
      },
      "execution_count": null,
      "outputs": [
        {
          "output_type": "execute_result",
          "data": {
            "text/plain": [
              "          estacion provincia      temp_max     temp_min  temp_med  \\\n",
              "0  Estaca de Bares  A Coruña  13.3 (10:20)  7.3 (23:30)      10.3   \n",
              "\n",
              "  viento_racha viento_vel_max  prec_dia  prec_0_6h  prec_6_12h  prec_12_18h  \\\n",
              "0  121 (00:10)     89 (00:10)       5.2        2.8         0.0          0.2   \n",
              "\n",
              "   prec_18_24h  \n",
              "0          2.2  "
            ],
            "text/html": [
              "\n",
              "  <div id=\"df-63ab212c-9322-4f62-bb59-da5b96ecd7db\" class=\"colab-df-container\">\n",
              "    <div>\n",
              "<style scoped>\n",
              "    .dataframe tbody tr th:only-of-type {\n",
              "        vertical-align: middle;\n",
              "    }\n",
              "\n",
              "    .dataframe tbody tr th {\n",
              "        vertical-align: top;\n",
              "    }\n",
              "\n",
              "    .dataframe thead th {\n",
              "        text-align: right;\n",
              "    }\n",
              "</style>\n",
              "<table border=\"1\" class=\"dataframe\">\n",
              "  <thead>\n",
              "    <tr style=\"text-align: right;\">\n",
              "      <th></th>\n",
              "      <th>estacion</th>\n",
              "      <th>provincia</th>\n",
              "      <th>temp_max</th>\n",
              "      <th>temp_min</th>\n",
              "      <th>temp_med</th>\n",
              "      <th>viento_racha</th>\n",
              "      <th>viento_vel_max</th>\n",
              "      <th>prec_dia</th>\n",
              "      <th>prec_0_6h</th>\n",
              "      <th>prec_6_12h</th>\n",
              "      <th>prec_12_18h</th>\n",
              "      <th>prec_18_24h</th>\n",
              "    </tr>\n",
              "  </thead>\n",
              "  <tbody>\n",
              "    <tr>\n",
              "      <th>0</th>\n",
              "      <td>Estaca de Bares</td>\n",
              "      <td>A Coruña</td>\n",
              "      <td>13.3 (10:20)</td>\n",
              "      <td>7.3 (23:30)</td>\n",
              "      <td>10.3</td>\n",
              "      <td>121 (00:10)</td>\n",
              "      <td>89 (00:10)</td>\n",
              "      <td>5.2</td>\n",
              "      <td>2.8</td>\n",
              "      <td>0.0</td>\n",
              "      <td>0.2</td>\n",
              "      <td>2.2</td>\n",
              "    </tr>\n",
              "  </tbody>\n",
              "</table>\n",
              "</div>\n",
              "    <div class=\"colab-df-buttons\">\n",
              "\n",
              "  <div class=\"colab-df-container\">\n",
              "    <button class=\"colab-df-convert\" onclick=\"convertToInteractive('df-63ab212c-9322-4f62-bb59-da5b96ecd7db')\"\n",
              "            title=\"Convert this dataframe to an interactive table.\"\n",
              "            style=\"display:none;\">\n",
              "\n",
              "  <svg xmlns=\"http://www.w3.org/2000/svg\" height=\"24px\" viewBox=\"0 -960 960 960\">\n",
              "    <path d=\"M120-120v-720h720v720H120Zm60-500h600v-160H180v160Zm220 220h160v-160H400v160Zm0 220h160v-160H400v160ZM180-400h160v-160H180v160Zm440 0h160v-160H620v160ZM180-180h160v-160H180v160Zm440 0h160v-160H620v160Z\"/>\n",
              "  </svg>\n",
              "    </button>\n",
              "\n",
              "  <style>\n",
              "    .colab-df-container {\n",
              "      display:flex;\n",
              "      gap: 12px;\n",
              "    }\n",
              "\n",
              "    .colab-df-convert {\n",
              "      background-color: #E8F0FE;\n",
              "      border: none;\n",
              "      border-radius: 50%;\n",
              "      cursor: pointer;\n",
              "      display: none;\n",
              "      fill: #1967D2;\n",
              "      height: 32px;\n",
              "      padding: 0 0 0 0;\n",
              "      width: 32px;\n",
              "    }\n",
              "\n",
              "    .colab-df-convert:hover {\n",
              "      background-color: #E2EBFA;\n",
              "      box-shadow: 0px 1px 2px rgba(60, 64, 67, 0.3), 0px 1px 3px 1px rgba(60, 64, 67, 0.15);\n",
              "      fill: #174EA6;\n",
              "    }\n",
              "\n",
              "    .colab-df-buttons div {\n",
              "      margin-bottom: 4px;\n",
              "    }\n",
              "\n",
              "    [theme=dark] .colab-df-convert {\n",
              "      background-color: #3B4455;\n",
              "      fill: #D2E3FC;\n",
              "    }\n",
              "\n",
              "    [theme=dark] .colab-df-convert:hover {\n",
              "      background-color: #434B5C;\n",
              "      box-shadow: 0px 1px 3px 1px rgba(0, 0, 0, 0.15);\n",
              "      filter: drop-shadow(0px 1px 2px rgba(0, 0, 0, 0.3));\n",
              "      fill: #FFFFFF;\n",
              "    }\n",
              "  </style>\n",
              "\n",
              "    <script>\n",
              "      const buttonEl =\n",
              "        document.querySelector('#df-63ab212c-9322-4f62-bb59-da5b96ecd7db button.colab-df-convert');\n",
              "      buttonEl.style.display =\n",
              "        google.colab.kernel.accessAllowed ? 'block' : 'none';\n",
              "\n",
              "      async function convertToInteractive(key) {\n",
              "        const element = document.querySelector('#df-63ab212c-9322-4f62-bb59-da5b96ecd7db');\n",
              "        const dataTable =\n",
              "          await google.colab.kernel.invokeFunction('convertToInteractive',\n",
              "                                                    [key], {});\n",
              "        if (!dataTable) return;\n",
              "\n",
              "        const docLinkHtml = 'Like what you see? Visit the ' +\n",
              "          '<a target=\"_blank\" href=https://colab.research.google.com/notebooks/data_table.ipynb>data table notebook</a>'\n",
              "          + ' to learn more about interactive tables.';\n",
              "        element.innerHTML = '';\n",
              "        dataTable['output_type'] = 'display_data';\n",
              "        await google.colab.output.renderOutput(dataTable, element);\n",
              "        const docLink = document.createElement('div');\n",
              "        docLink.innerHTML = docLinkHtml;\n",
              "        element.appendChild(docLink);\n",
              "      }\n",
              "    </script>\n",
              "  </div>\n",
              "\n",
              "\n",
              "    </div>\n",
              "  </div>\n"
            ],
            "application/vnd.google.colaboratory.intrinsic+json": {
              "type": "dataframe",
              "variable_name": "df",
              "summary": "{\n  \"name\": \"df\",\n  \"rows\": 797,\n  \"fields\": [\n    {\n      \"column\": \"estacion\",\n      \"properties\": {\n        \"dtype\": \"string\",\n        \"num_unique_values\": 796,\n        \"samples\": [\n          \"Sta.Cruz de Tenerife\",\n          \"Pe\\u00f1ausende\",\n          \"Pilo\\u00f1a\"\n        ],\n        \"semantic_type\": \"\",\n        \"description\": \"\"\n      }\n    },\n    {\n      \"column\": \"provincia\",\n      \"properties\": {\n        \"dtype\": \"category\",\n        \"num_unique_values\": 52,\n        \"samples\": [\n          \"Gipuzkoa\",\n          \"Segovia\",\n          \"Toledo\"\n        ],\n        \"semantic_type\": \"\",\n        \"description\": \"\"\n      }\n    },\n    {\n      \"column\": \"temp_max\",\n      \"properties\": {\n        \"dtype\": \"string\",\n        \"num_unique_values\": 714,\n        \"samples\": [\n          \"17.5 (14:00)\",\n          \"10.1 (15:40)\",\n          \"16.0 (14:50)\"\n        ],\n        \"semantic_type\": \"\",\n        \"description\": \"\"\n      }\n    },\n    {\n      \"column\": \"temp_min\",\n      \"properties\": {\n        \"dtype\": \"string\",\n        \"num_unique_values\": 610,\n        \"samples\": [\n          \"3.6 (07:10)\",\n          \"4.8 (00:00)\",\n          \"10.8 (23:40)\"\n        ],\n        \"semantic_type\": \"\",\n        \"description\": \"\"\n      }\n    },\n    {\n      \"column\": \"temp_med\",\n      \"properties\": {\n        \"dtype\": \"number\",\n        \"std\": 3.769043382810897,\n        \"min\": -0.6,\n        \"max\": 19.5,\n        \"num_unique_values\": 165,\n        \"samples\": [\n          19.1,\n          1.0,\n          17.7\n        ],\n        \"semantic_type\": \"\",\n        \"description\": \"\"\n      }\n    },\n    {\n      \"column\": \"viento_racha\",\n      \"properties\": {\n        \"dtype\": \"string\",\n        \"num_unique_values\": 609,\n        \"samples\": [\n          \"10 (15:20)\",\n          \"28 (00:50)\",\n          \"70 (10:40)\"\n        ],\n        \"semantic_type\": \"\",\n        \"description\": \"\"\n      }\n    },\n    {\n      \"column\": \"viento_vel_max\",\n      \"properties\": {\n        \"dtype\": \"string\",\n        \"num_unique_values\": 601,\n        \"samples\": [\n          \"27 (14:40)\",\n          \"32 (17:50)\",\n          \"28 (14:00)\"\n        ],\n        \"semantic_type\": \"\",\n        \"description\": \"\"\n      }\n    },\n    {\n      \"column\": \"prec_dia\",\n      \"properties\": {\n        \"dtype\": \"number\",\n        \"std\": 15.125738757363766,\n        \"min\": 0.0,\n        \"max\": 132.8,\n        \"num_unique_values\": 213,\n        \"samples\": [\n          23.9,\n          52.8,\n          20.0\n        ],\n        \"semantic_type\": \"\",\n        \"description\": \"\"\n      }\n    },\n    {\n      \"column\": \"prec_0_6h\",\n      \"properties\": {\n        \"dtype\": \"number\",\n        \"std\": 5.606085137896607,\n        \"min\": 0.0,\n        \"max\": 47.6,\n        \"num_unique_values\": 116,\n        \"samples\": [\n          3.9,\n          13.0,\n          1.8\n        ],\n        \"semantic_type\": \"\",\n        \"description\": \"\"\n      }\n    },\n    {\n      \"column\": \"prec_6_12h\",\n      \"properties\": {\n        \"dtype\": \"number\",\n        \"std\": 3.889366557396721,\n        \"min\": 0.0,\n        \"max\": 36.4,\n        \"num_unique_values\": 89,\n        \"samples\": [\n          36.4,\n          3.7,\n          0.8\n        ],\n        \"semantic_type\": \"\",\n        \"description\": \"\"\n      }\n    },\n    {\n      \"column\": \"prec_12_18h\",\n      \"properties\": {\n        \"dtype\": \"number\",\n        \"std\": 3.4106923065727104,\n        \"min\": 0.0,\n        \"max\": 27.6,\n        \"num_unique_values\": 85,\n        \"samples\": [\n          27.6,\n          0.2,\n          0.3\n        ],\n        \"semantic_type\": \"\",\n        \"description\": \"\"\n      }\n    },\n    {\n      \"column\": \"prec_18_24h\",\n      \"properties\": {\n        \"dtype\": \"number\",\n        \"std\": 6.345245010600696,\n        \"min\": 0.0,\n        \"max\": 41.3,\n        \"num_unique_values\": 119,\n        \"samples\": [\n          5.6,\n          19.5,\n          1.0\n        ],\n        \"semantic_type\": \"\",\n        \"description\": \"\"\n      }\n    }\n  ]\n}"
            }
          },
          "metadata": {},
          "execution_count": 7
        }
      ]
    },
    {
      "cell_type": "markdown",
      "source": [
        "Podemos observar que en algunas columnas ademas del valor numérico también se tiene la hora, lo cual no nos interesa ya que los datos tienen que ser numéricos para nuestro análisis."
      ],
      "metadata": {
        "id": "hBXzzNqeZFXs"
      }
    },
    {
      "cell_type": "code",
      "source": [
        "df=df.replace(to_replace=r'.\\(.+\\)$', value='', regex=True)\n",
        "df.head(1)"
      ],
      "metadata": {
        "colab": {
          "base_uri": "https://localhost:8080/",
          "height": 118
        },
        "id": "nVvekgBUYzg_",
        "outputId": "ab41faa2-0785-4bf1-bdc6-ed4f58cd0a91"
      },
      "execution_count": null,
      "outputs": [
        {
          "output_type": "execute_result",
          "data": {
            "text/plain": [
              "          estacion provincia temp_max temp_min  temp_med viento_racha  \\\n",
              "0  Estaca de Bares  A Coruña     13.3      7.3      10.3          121   \n",
              "\n",
              "  viento_vel_max  prec_dia  prec_0_6h  prec_6_12h  prec_12_18h  prec_18_24h  \n",
              "0             89       5.2        2.8         0.0          0.2          2.2  "
            ],
            "text/html": [
              "\n",
              "  <div id=\"df-1ba6f978-ada7-4ad5-b893-63f46b93cd59\" class=\"colab-df-container\">\n",
              "    <div>\n",
              "<style scoped>\n",
              "    .dataframe tbody tr th:only-of-type {\n",
              "        vertical-align: middle;\n",
              "    }\n",
              "\n",
              "    .dataframe tbody tr th {\n",
              "        vertical-align: top;\n",
              "    }\n",
              "\n",
              "    .dataframe thead th {\n",
              "        text-align: right;\n",
              "    }\n",
              "</style>\n",
              "<table border=\"1\" class=\"dataframe\">\n",
              "  <thead>\n",
              "    <tr style=\"text-align: right;\">\n",
              "      <th></th>\n",
              "      <th>estacion</th>\n",
              "      <th>provincia</th>\n",
              "      <th>temp_max</th>\n",
              "      <th>temp_min</th>\n",
              "      <th>temp_med</th>\n",
              "      <th>viento_racha</th>\n",
              "      <th>viento_vel_max</th>\n",
              "      <th>prec_dia</th>\n",
              "      <th>prec_0_6h</th>\n",
              "      <th>prec_6_12h</th>\n",
              "      <th>prec_12_18h</th>\n",
              "      <th>prec_18_24h</th>\n",
              "    </tr>\n",
              "  </thead>\n",
              "  <tbody>\n",
              "    <tr>\n",
              "      <th>0</th>\n",
              "      <td>Estaca de Bares</td>\n",
              "      <td>A Coruña</td>\n",
              "      <td>13.3</td>\n",
              "      <td>7.3</td>\n",
              "      <td>10.3</td>\n",
              "      <td>121</td>\n",
              "      <td>89</td>\n",
              "      <td>5.2</td>\n",
              "      <td>2.8</td>\n",
              "      <td>0.0</td>\n",
              "      <td>0.2</td>\n",
              "      <td>2.2</td>\n",
              "    </tr>\n",
              "  </tbody>\n",
              "</table>\n",
              "</div>\n",
              "    <div class=\"colab-df-buttons\">\n",
              "\n",
              "  <div class=\"colab-df-container\">\n",
              "    <button class=\"colab-df-convert\" onclick=\"convertToInteractive('df-1ba6f978-ada7-4ad5-b893-63f46b93cd59')\"\n",
              "            title=\"Convert this dataframe to an interactive table.\"\n",
              "            style=\"display:none;\">\n",
              "\n",
              "  <svg xmlns=\"http://www.w3.org/2000/svg\" height=\"24px\" viewBox=\"0 -960 960 960\">\n",
              "    <path d=\"M120-120v-720h720v720H120Zm60-500h600v-160H180v160Zm220 220h160v-160H400v160Zm0 220h160v-160H400v160ZM180-400h160v-160H180v160Zm440 0h160v-160H620v160ZM180-180h160v-160H180v160Zm440 0h160v-160H620v160Z\"/>\n",
              "  </svg>\n",
              "    </button>\n",
              "\n",
              "  <style>\n",
              "    .colab-df-container {\n",
              "      display:flex;\n",
              "      gap: 12px;\n",
              "    }\n",
              "\n",
              "    .colab-df-convert {\n",
              "      background-color: #E8F0FE;\n",
              "      border: none;\n",
              "      border-radius: 50%;\n",
              "      cursor: pointer;\n",
              "      display: none;\n",
              "      fill: #1967D2;\n",
              "      height: 32px;\n",
              "      padding: 0 0 0 0;\n",
              "      width: 32px;\n",
              "    }\n",
              "\n",
              "    .colab-df-convert:hover {\n",
              "      background-color: #E2EBFA;\n",
              "      box-shadow: 0px 1px 2px rgba(60, 64, 67, 0.3), 0px 1px 3px 1px rgba(60, 64, 67, 0.15);\n",
              "      fill: #174EA6;\n",
              "    }\n",
              "\n",
              "    .colab-df-buttons div {\n",
              "      margin-bottom: 4px;\n",
              "    }\n",
              "\n",
              "    [theme=dark] .colab-df-convert {\n",
              "      background-color: #3B4455;\n",
              "      fill: #D2E3FC;\n",
              "    }\n",
              "\n",
              "    [theme=dark] .colab-df-convert:hover {\n",
              "      background-color: #434B5C;\n",
              "      box-shadow: 0px 1px 3px 1px rgba(0, 0, 0, 0.15);\n",
              "      filter: drop-shadow(0px 1px 2px rgba(0, 0, 0, 0.3));\n",
              "      fill: #FFFFFF;\n",
              "    }\n",
              "  </style>\n",
              "\n",
              "    <script>\n",
              "      const buttonEl =\n",
              "        document.querySelector('#df-1ba6f978-ada7-4ad5-b893-63f46b93cd59 button.colab-df-convert');\n",
              "      buttonEl.style.display =\n",
              "        google.colab.kernel.accessAllowed ? 'block' : 'none';\n",
              "\n",
              "      async function convertToInteractive(key) {\n",
              "        const element = document.querySelector('#df-1ba6f978-ada7-4ad5-b893-63f46b93cd59');\n",
              "        const dataTable =\n",
              "          await google.colab.kernel.invokeFunction('convertToInteractive',\n",
              "                                                    [key], {});\n",
              "        if (!dataTable) return;\n",
              "\n",
              "        const docLinkHtml = 'Like what you see? Visit the ' +\n",
              "          '<a target=\"_blank\" href=https://colab.research.google.com/notebooks/data_table.ipynb>data table notebook</a>'\n",
              "          + ' to learn more about interactive tables.';\n",
              "        element.innerHTML = '';\n",
              "        dataTable['output_type'] = 'display_data';\n",
              "        await google.colab.output.renderOutput(dataTable, element);\n",
              "        const docLink = document.createElement('div');\n",
              "        docLink.innerHTML = docLinkHtml;\n",
              "        element.appendChild(docLink);\n",
              "      }\n",
              "    </script>\n",
              "  </div>\n",
              "\n",
              "\n",
              "    </div>\n",
              "  </div>\n"
            ],
            "application/vnd.google.colaboratory.intrinsic+json": {
              "type": "dataframe",
              "variable_name": "df",
              "summary": "{\n  \"name\": \"df\",\n  \"rows\": 797,\n  \"fields\": [\n    {\n      \"column\": \"estacion\",\n      \"properties\": {\n        \"dtype\": \"string\",\n        \"num_unique_values\": 796,\n        \"samples\": [\n          \"Sta.Cruz de Tenerife\",\n          \"Pe\\u00f1ausende\",\n          \"Pilo\\u00f1a\"\n        ],\n        \"semantic_type\": \"\",\n        \"description\": \"\"\n      }\n    },\n    {\n      \"column\": \"provincia\",\n      \"properties\": {\n        \"dtype\": \"category\",\n        \"num_unique_values\": 52,\n        \"samples\": [\n          \"Gipuzkoa\",\n          \"Segovia\",\n          \"Toledo\"\n        ],\n        \"semantic_type\": \"\",\n        \"description\": \"\"\n      }\n    },\n    {\n      \"column\": \"temp_max\",\n      \"properties\": {\n        \"dtype\": \"category\",\n        \"num_unique_values\": 172,\n        \"samples\": [\n          \"17.4\",\n          \"19.5\",\n          \"6.2\"\n        ],\n        \"semantic_type\": \"\",\n        \"description\": \"\"\n      }\n    },\n    {\n      \"column\": \"temp_min\",\n      \"properties\": {\n        \"dtype\": \"category\",\n        \"num_unique_values\": 182,\n        \"samples\": [\n          \"7.5\",\n          \"3.2\",\n          \"15.7\"\n        ],\n        \"semantic_type\": \"\",\n        \"description\": \"\"\n      }\n    },\n    {\n      \"column\": \"temp_med\",\n      \"properties\": {\n        \"dtype\": \"number\",\n        \"std\": 3.769043382810897,\n        \"min\": -0.6,\n        \"max\": 19.5,\n        \"num_unique_values\": 165,\n        \"samples\": [\n          19.1,\n          1.0,\n          17.7\n        ],\n        \"semantic_type\": \"\",\n        \"description\": \"\"\n      }\n    },\n    {\n      \"column\": \"viento_racha\",\n      \"properties\": {\n        \"dtype\": \"category\",\n        \"num_unique_values\": 87,\n        \"samples\": [\n          \"102\",\n          \"121\",\n          \"31\"\n        ],\n        \"semantic_type\": \"\",\n        \"description\": \"\"\n      }\n    },\n    {\n      \"column\": \"viento_vel_max\",\n      \"properties\": {\n        \"dtype\": \"category\",\n        \"num_unique_values\": 61,\n        \"samples\": [\n          \"89\",\n          \"29\",\n          \"47\"\n        ],\n        \"semantic_type\": \"\",\n        \"description\": \"\"\n      }\n    },\n    {\n      \"column\": \"prec_dia\",\n      \"properties\": {\n        \"dtype\": \"number\",\n        \"std\": 15.125738757363766,\n        \"min\": 0.0,\n        \"max\": 132.8,\n        \"num_unique_values\": 213,\n        \"samples\": [\n          23.9,\n          52.8,\n          20.0\n        ],\n        \"semantic_type\": \"\",\n        \"description\": \"\"\n      }\n    },\n    {\n      \"column\": \"prec_0_6h\",\n      \"properties\": {\n        \"dtype\": \"number\",\n        \"std\": 5.606085137896607,\n        \"min\": 0.0,\n        \"max\": 47.6,\n        \"num_unique_values\": 116,\n        \"samples\": [\n          3.9,\n          13.0,\n          1.8\n        ],\n        \"semantic_type\": \"\",\n        \"description\": \"\"\n      }\n    },\n    {\n      \"column\": \"prec_6_12h\",\n      \"properties\": {\n        \"dtype\": \"number\",\n        \"std\": 3.889366557396721,\n        \"min\": 0.0,\n        \"max\": 36.4,\n        \"num_unique_values\": 89,\n        \"samples\": [\n          36.4,\n          3.7,\n          0.8\n        ],\n        \"semantic_type\": \"\",\n        \"description\": \"\"\n      }\n    },\n    {\n      \"column\": \"prec_12_18h\",\n      \"properties\": {\n        \"dtype\": \"number\",\n        \"std\": 3.4106923065727104,\n        \"min\": 0.0,\n        \"max\": 27.6,\n        \"num_unique_values\": 85,\n        \"samples\": [\n          27.6,\n          0.2,\n          0.3\n        ],\n        \"semantic_type\": \"\",\n        \"description\": \"\"\n      }\n    },\n    {\n      \"column\": \"prec_18_24h\",\n      \"properties\": {\n        \"dtype\": \"number\",\n        \"std\": 6.345245010600696,\n        \"min\": 0.0,\n        \"max\": 41.3,\n        \"num_unique_values\": 119,\n        \"samples\": [\n          5.6,\n          19.5,\n          1.0\n        ],\n        \"semantic_type\": \"\",\n        \"description\": \"\"\n      }\n    }\n  ]\n}"
            }
          },
          "metadata": {},
          "execution_count": 8
        }
      ]
    },
    {
      "cell_type": "markdown",
      "source": [
        "Identificación de valores nulos: Muchas veces los conjuntos de datos contienen valores faltantes (nulos), que deben ser gestionados adecuadamente."
      ],
      "metadata": {
        "id": "kwgxUadXXD7S"
      }
    },
    {
      "cell_type": "markdown",
      "source": [
        "Identificar cuántos valores nulos existen en cada columna:"
      ],
      "metadata": {
        "id": "JYpHRwjzXQkc"
      }
    },
    {
      "cell_type": "code",
      "source": [
        "df.info()"
      ],
      "metadata": {
        "colab": {
          "base_uri": "https://localhost:8080/"
        },
        "id": "rTapHfnOgqKB",
        "outputId": "aa9d00d2-2084-4bba-f725-b41a5895d1e7"
      },
      "execution_count": null,
      "outputs": [
        {
          "output_type": "stream",
          "name": "stdout",
          "text": [
            "<class 'pandas.core.frame.DataFrame'>\n",
            "RangeIndex: 797 entries, 0 to 796\n",
            "Data columns (total 12 columns):\n",
            " #   Column          Non-Null Count  Dtype  \n",
            "---  ------          --------------  -----  \n",
            " 0   estacion        797 non-null    object \n",
            " 1   provincia       797 non-null    object \n",
            " 2   temp_max        769 non-null    object \n",
            " 3   temp_min        769 non-null    object \n",
            " 4   temp_med        769 non-null    float64\n",
            " 5   viento_racha    650 non-null    object \n",
            " 6   viento_vel_max  653 non-null    object \n",
            " 7   prec_dia        758 non-null    float64\n",
            " 8   prec_0_6h       761 non-null    float64\n",
            " 9   prec_6_12h      762 non-null    float64\n",
            " 10  prec_12_18h     764 non-null    float64\n",
            " 11  prec_18_24h     762 non-null    float64\n",
            "dtypes: float64(6), object(6)\n",
            "memory usage: 74.8+ KB\n"
          ]
        }
      ]
    },
    {
      "cell_type": "code",
      "source": [
        "df.isnull().sum()"
      ],
      "metadata": {
        "colab": {
          "base_uri": "https://localhost:8080/",
          "height": 460
        },
        "id": "JYVs67slXF07",
        "outputId": "7ef7faea-f5d8-4ff8-9b24-ce4c5251d3a6"
      },
      "execution_count": null,
      "outputs": [
        {
          "output_type": "execute_result",
          "data": {
            "text/plain": [
              "estacion            0\n",
              "provincia           0\n",
              "temp_max           28\n",
              "temp_min           28\n",
              "temp_med           28\n",
              "viento_racha      147\n",
              "viento_vel_max    144\n",
              "prec_dia           39\n",
              "prec_0_6h          36\n",
              "prec_6_12h         35\n",
              "prec_12_18h        33\n",
              "prec_18_24h        35\n",
              "dtype: int64"
            ],
            "text/html": [
              "<div>\n",
              "<style scoped>\n",
              "    .dataframe tbody tr th:only-of-type {\n",
              "        vertical-align: middle;\n",
              "    }\n",
              "\n",
              "    .dataframe tbody tr th {\n",
              "        vertical-align: top;\n",
              "    }\n",
              "\n",
              "    .dataframe thead th {\n",
              "        text-align: right;\n",
              "    }\n",
              "</style>\n",
              "<table border=\"1\" class=\"dataframe\">\n",
              "  <thead>\n",
              "    <tr style=\"text-align: right;\">\n",
              "      <th></th>\n",
              "      <th>0</th>\n",
              "    </tr>\n",
              "  </thead>\n",
              "  <tbody>\n",
              "    <tr>\n",
              "      <th>estacion</th>\n",
              "      <td>0</td>\n",
              "    </tr>\n",
              "    <tr>\n",
              "      <th>provincia</th>\n",
              "      <td>0</td>\n",
              "    </tr>\n",
              "    <tr>\n",
              "      <th>temp_max</th>\n",
              "      <td>28</td>\n",
              "    </tr>\n",
              "    <tr>\n",
              "      <th>temp_min</th>\n",
              "      <td>28</td>\n",
              "    </tr>\n",
              "    <tr>\n",
              "      <th>temp_med</th>\n",
              "      <td>28</td>\n",
              "    </tr>\n",
              "    <tr>\n",
              "      <th>viento_racha</th>\n",
              "      <td>147</td>\n",
              "    </tr>\n",
              "    <tr>\n",
              "      <th>viento_vel_max</th>\n",
              "      <td>144</td>\n",
              "    </tr>\n",
              "    <tr>\n",
              "      <th>prec_dia</th>\n",
              "      <td>39</td>\n",
              "    </tr>\n",
              "    <tr>\n",
              "      <th>prec_0_6h</th>\n",
              "      <td>36</td>\n",
              "    </tr>\n",
              "    <tr>\n",
              "      <th>prec_6_12h</th>\n",
              "      <td>35</td>\n",
              "    </tr>\n",
              "    <tr>\n",
              "      <th>prec_12_18h</th>\n",
              "      <td>33</td>\n",
              "    </tr>\n",
              "    <tr>\n",
              "      <th>prec_18_24h</th>\n",
              "      <td>35</td>\n",
              "    </tr>\n",
              "  </tbody>\n",
              "</table>\n",
              "</div><br><label><b>dtype:</b> int64</label>"
            ]
          },
          "metadata": {},
          "execution_count": 10
        }
      ]
    },
    {
      "cell_type": "code",
      "source": [
        "df_clean = df.dropna()  # Eliminar todas las filas con valores nulos"
      ],
      "metadata": {
        "id": "AAakXHQqXTmL"
      },
      "execution_count": null,
      "outputs": []
    },
    {
      "cell_type": "code",
      "source": [
        "# Convert 'temp_max' column to numeric, handling errors\n",
        "df['temp_max'] = pd.to_numeric(df['temp_max'], errors='coerce')\n",
        "\n",
        "# Replace NaN values with the mean of the numeric values in 'temp_max'\n",
        "df['temp_max'] = df['temp_max'].fillna(df['temp_max'].mean())  # Reemplazar por la media"
      ],
      "metadata": {
        "id": "fVL4RD1slrsN"
      },
      "execution_count": null,
      "outputs": []
    },
    {
      "cell_type": "code",
      "source": [
        "df.isnull().sum()"
      ],
      "metadata": {
        "colab": {
          "base_uri": "https://localhost:8080/",
          "height": 460
        },
        "id": "hAToKpvXlz3p",
        "outputId": "0a34919c-1c24-4e67-e9a8-6f4d308164f3"
      },
      "execution_count": null,
      "outputs": [
        {
          "output_type": "execute_result",
          "data": {
            "text/plain": [
              "estacion            0\n",
              "provincia           0\n",
              "temp_max            0\n",
              "temp_min           28\n",
              "temp_med           28\n",
              "viento_racha      147\n",
              "viento_vel_max    144\n",
              "prec_dia           39\n",
              "prec_0_6h          36\n",
              "prec_6_12h         35\n",
              "prec_12_18h        33\n",
              "prec_18_24h        35\n",
              "dtype: int64"
            ],
            "text/html": [
              "<div>\n",
              "<style scoped>\n",
              "    .dataframe tbody tr th:only-of-type {\n",
              "        vertical-align: middle;\n",
              "    }\n",
              "\n",
              "    .dataframe tbody tr th {\n",
              "        vertical-align: top;\n",
              "    }\n",
              "\n",
              "    .dataframe thead th {\n",
              "        text-align: right;\n",
              "    }\n",
              "</style>\n",
              "<table border=\"1\" class=\"dataframe\">\n",
              "  <thead>\n",
              "    <tr style=\"text-align: right;\">\n",
              "      <th></th>\n",
              "      <th>0</th>\n",
              "    </tr>\n",
              "  </thead>\n",
              "  <tbody>\n",
              "    <tr>\n",
              "      <th>estacion</th>\n",
              "      <td>0</td>\n",
              "    </tr>\n",
              "    <tr>\n",
              "      <th>provincia</th>\n",
              "      <td>0</td>\n",
              "    </tr>\n",
              "    <tr>\n",
              "      <th>temp_max</th>\n",
              "      <td>0</td>\n",
              "    </tr>\n",
              "    <tr>\n",
              "      <th>temp_min</th>\n",
              "      <td>28</td>\n",
              "    </tr>\n",
              "    <tr>\n",
              "      <th>temp_med</th>\n",
              "      <td>28</td>\n",
              "    </tr>\n",
              "    <tr>\n",
              "      <th>viento_racha</th>\n",
              "      <td>147</td>\n",
              "    </tr>\n",
              "    <tr>\n",
              "      <th>viento_vel_max</th>\n",
              "      <td>144</td>\n",
              "    </tr>\n",
              "    <tr>\n",
              "      <th>prec_dia</th>\n",
              "      <td>39</td>\n",
              "    </tr>\n",
              "    <tr>\n",
              "      <th>prec_0_6h</th>\n",
              "      <td>36</td>\n",
              "    </tr>\n",
              "    <tr>\n",
              "      <th>prec_6_12h</th>\n",
              "      <td>35</td>\n",
              "    </tr>\n",
              "    <tr>\n",
              "      <th>prec_12_18h</th>\n",
              "      <td>33</td>\n",
              "    </tr>\n",
              "    <tr>\n",
              "      <th>prec_18_24h</th>\n",
              "      <td>35</td>\n",
              "    </tr>\n",
              "  </tbody>\n",
              "</table>\n",
              "</div><br><label><b>dtype:</b> int64</label>"
            ]
          },
          "metadata": {},
          "execution_count": 12
        }
      ]
    },
    {
      "cell_type": "markdown",
      "source": [
        "**OTRAS TECNICAS DE LIMPIEZA**"
      ],
      "metadata": {
        "id": "EZcYyxY1w3zV"
      }
    },
    {
      "cell_type": "markdown",
      "source": [
        "Eliminación de duplicados: En ocasiones, los conjuntos de datos contienen filas duplicadas que deben eliminarse para evitar sesgos en el análisis."
      ],
      "metadata": {
        "id": "oADDZIG-ygtl"
      }
    },
    {
      "cell_type": "code",
      "source": [
        "df_clean = df.drop_duplicates()  # Eliminar filas duplicadas"
      ],
      "metadata": {
        "id": "YcXXeNoQydGB"
      },
      "execution_count": null,
      "outputs": []
    },
    {
      "cell_type": "markdown",
      "source": [
        "Conversión de tipos de datos: Algunas columnas pueden tener tipos de datos incorrectos, como fechas almacenadas como texto o números almacenados como cadenas. Es importante corregir estos tipos."
      ],
      "metadata": {
        "id": "nEUhoz8kyjXf"
      }
    },
    {
      "cell_type": "code",
      "source": [
        "df['columna'] = pd.to_numeric(df['columna'], errors='coerce')#Convertir una columna a tipo numérico:"
      ],
      "metadata": {
        "id": "bwShYZ3ty6KR"
      },
      "execution_count": null,
      "outputs": []
    },
    {
      "cell_type": "code",
      "source": [
        "df['fecha'] = pd.to_datetime(df['fecha'], errors='coerce')#Convertir una columna a formato de fecha:"
      ],
      "metadata": {
        "id": "_YS4zBsyy_eV"
      },
      "execution_count": null,
      "outputs": []
    },
    {
      "cell_type": "markdown",
      "source": [
        "Normalización de los datos: En muchos casos, las variables pueden tener diferentes escalas (por ejemplo, ingresos en miles y edad en años), lo que puede afectar a los modelos de Machine Learning. La normalización o estandarización ayuda a que todas las variables estén en una misma escala."
      ],
      "metadata": {
        "id": "CZvfjIUxzIjI"
      }
    },
    {
      "cell_type": "code",
      "source": [
        "#Estandarización (media = 0, desviación estándar = 1)\n",
        "from sklearn.preprocessing import StandardScaler\n",
        "scaler = StandardScaler()\n",
        "df[['columna1', 'columna2']] = scaler.fit_transform(df[['columna1', 'columna2']])"
      ],
      "metadata": {
        "id": "5aHnWyGqzJWt"
      },
      "execution_count": null,
      "outputs": []
    },
    {
      "cell_type": "code",
      "source": [
        "#Normalización (valores entre 0 y 1)\n",
        "from sklearn.preprocessing import MinMaxScaler\n",
        "scaler = MinMaxScaler()\n",
        "df[['columna1', 'columna2']] = scaler.fit_transform(df[['columna1', 'columna2']])"
      ],
      "metadata": {
        "id": "hMeab2ubzSU7"
      },
      "execution_count": null,
      "outputs": []
    },
    {
      "cell_type": "markdown",
      "source": [
        "Detección y manejo de outliers (valores atípicos): Los outliers son valores que se encuentran muy lejos de otros puntos de datos. Pueden ser errores de entrada o puntos de datos importantes, por lo que es crucial identificarlos."
      ],
      "metadata": {
        "id": "ofnm4xJ9zfNP"
      }
    },
    {
      "cell_type": "code",
      "source": [
        "#Gráficamente, se pueden identificar utilizando gráficos de caja o histogramas.\n",
        "import seaborn as sns\n",
        "sns.boxplot(x=df['columna'])"
      ],
      "metadata": {
        "id": "waHbCXXTzgE7"
      },
      "execution_count": null,
      "outputs": []
    },
    {
      "cell_type": "code",
      "source": [
        "import seaborn as sns\n",
        "sns.boxplot(x=df['temp_max'])"
      ],
      "metadata": {
        "colab": {
          "base_uri": "https://localhost:8080/",
          "height": 521
        },
        "id": "VI0ZuBa_zsZr",
        "outputId": "b6ab3de8-b765-4990-c034-946e00949188"
      },
      "execution_count": null,
      "outputs": [
        {
          "output_type": "stream",
          "name": "stderr",
          "text": [
            "/usr/local/lib/python3.10/dist-packages/seaborn/categorical.py:640: FutureWarning: SeriesGroupBy.grouper is deprecated and will be removed in a future version of pandas.\n",
            "  positions = grouped.grouper.result_index.to_numpy(dtype=float)\n"
          ]
        },
        {
          "output_type": "execute_result",
          "data": {
            "text/plain": [
              "<Axes: xlabel='temp_max'>"
            ]
          },
          "metadata": {},
          "execution_count": 13
        },
        {
          "output_type": "display_data",
          "data": {
            "text/plain": [
              "<Figure size 640x480 with 1 Axes>"
            ],
            "image/png": "[encoded data removed]"
          },
          "metadata": {}
        }
      ]
    },
    {
      "cell_type": "markdown",
      "source": [
        "Manejo de outliers:"
      ],
      "metadata": {
        "id": "ccFr_QwO0pd7"
      }
    },
    {
      "cell_type": "code",
      "source": [
        "#Eliminación de outliers:\n",
        "Q1 = df['columna'].quantile(0.25)\n",
        "Q3 = df['columna'].quantile(0.75)\n",
        "IQR = Q3 - Q1\n",
        "df_clean = df[~((df['columna'] < (Q1 - 1.5 * IQR)) | (df['columna'] > (Q3 + 1.5 * IQR)))]"
      ],
      "metadata": {
        "id": "Q1KQA2HS0qPl"
      },
      "execution_count": null,
      "outputs": []
    },
    {
      "cell_type": "markdown",
      "source": [
        "Codificación de variables categóricas: Los algoritmos de Machine Learning generalmente no pueden trabajar con datos categóricos (texto) directamente, por lo que estas variables deben ser codificadas en números."
      ],
      "metadata": {
        "id": "_PnycwBk00-3"
      }
    },
    {
      "cell_type": "code",
      "source": [
        "#One-hot encoding (Codificación de variables categóricas en varias columnas)\n",
        "df_encoded = pd.get_dummies(df, columns=['columna_categorica'])"
      ],
      "metadata": {
        "id": "LeBV97x60xzW"
      },
      "execution_count": null,
      "outputs": []
    },
    {
      "cell_type": "code",
      "source": [
        "#Label encoding (Asignar un número a cada categoría)\n",
        "from sklearn.preprocessing import LabelEncoder\n",
        "le = LabelEncoder()\n",
        "df['columna_categorica'] = le.fit_transform(df['columna_categorica'])"
      ],
      "metadata": {
        "id": "X2hIgbyw07Wx"
      },
      "execution_count": null,
      "outputs": []
    }
  ]
}