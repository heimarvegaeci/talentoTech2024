{
  "cells": [
    {
      "cell_type": "markdown",
      "metadata": {
        "id": "AA4Ct_a53YmR"
      },
      "source": [
        "EJERCICIO: SISTEMA DE RECOMENDACIÓN BÁSICO USANDO DESCOMPOSICIÓN DE MATRICES (SVD)\n",
        "PROBLEMA:\n",
        "Eres parte de un equipo que está desarrollando un sistema de recomendación para una plataforma de películas similar a Netflix. La plataforma tiene datos sobre las calificaciones que diferentes usuarios han dado a diversas películas. Sin embargo, no todos los usuarios han calificado todas las películas, por lo que tienes una matriz incompleta.\n",
        "El objetivo es predecir las calificaciones que un usuario podría dar a una película no vista, utilizando la descomposición en valores singulares (SVD) para encontrar patrones latentes en las calificaciones.\n",
        "Datos de Calificaciones\n",
        "Imagina que tienes una matriz de calificaciones de 5 usuarios y 4 películas. Los valores son las calificaciones (de 1 a 5), y los ceros representan películas que el usuario no ha calificado todavía:\n",
        "\n",
        "![image.png](data:image/png;base64,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)\n"
      ]
    },
    {
      "cell_type": "code",
      "execution_count": 1,
      "metadata": {
        "id": "yk_MvEAv6voe"
      },
      "outputs": [],
      "source": [
        "import numpy as np\n",
        "from numpy.linalg import svd"
      ]
    },
    {
      "cell_type": "code",
      "execution_count": 2,
      "metadata": {
        "id": "PUMcwFSo5ZQk"
      },
      "outputs": [],
      "source": [
        "ratings = np.array([\n",
        "    [5, 3, 0, 1],\n",
        "    [4, 0, 0, 1],\n",
        "    [1, 1, 0, 5],\n",
        "    [0, 0, 5, 4],\n",
        "    [0, 2, 4, 0]\n",
        "])"
      ]
    },
    {
      "cell_type": "code",
      "execution_count": 3,
      "metadata": {
        "id": "bnfFehnp6xen"
      },
      "outputs": [],
      "source": [
        "U, S, Vt = svd(ratings, full_matrices=False)\n",
        "#svd(): Es una función de la biblioteca numpy.linalg.svd() que realiza la descomposición en valores singulares.\n",
        "#ratings: Es la matriz que se está descomponiendo\n",
        "#full_matrices=False: Este argumento especifica si la descomposición debe retornar matrices completas o truncadas"
      ]
    },
    {
      "cell_type": "markdown",
      "metadata": {
        "id": "nlf7iTApvMAE"
      },
      "source": [
        "a idea es descomponer una matriz 𝐴 de tamaño m×n en tres matrices:\n",
        "𝐴=𝑈⋅𝑆⋅𝑉𝑇\n",
        "\n",
        "U: Matriz ortogonal de tamaño m×m cuyas columnas son los vectores singulares izquierdos.\n",
        "\n",
        "S: Matriz diagonal (de tamaño m×n) que contiene los valores singulares en el eje diagonal. Estos valores son números no negativos ordenados de mayor a menor.\n",
        "\n",
        "VT : Transpuesta de la matriz ortogonal V, de tamaño n×n, cuyas filas son los vectores singulares derechos.\n",
        "\n"
      ]
    },
    {
      "cell_type": "code",
      "execution_count": 4,
      "metadata": {
        "id": "dt8716VY61wW"
      },
      "outputs": [],
      "source": [
        "S_diag = np.diag(S) #toma un vector o una lista de valores singulares S y lo convierte en una matriz diagonal."
      ]
    },
    {
      "cell_type": "markdown",
      "metadata": {
        "id": "XHa14yGRw7Bh"
      },
      "source": [
        "la descomposición en valores singulares (SVD), los valores singulares\n",
        "S se devuelven como un vector o array unidimensional. Este vector contiene los valores singulares, que son números no negativos ordenados de mayor a menor, y representan la \"importancia\" o \"peso\" de cada componente en la descomposición de la matriz original."
      ]
    },
    {
      "cell_type": "markdown",
      "metadata": {
        "id": "8Hn1wDzox3WC"
      },
      "source": [
        "Función np.diag()\n",
        "\n",
        "La función np.diag() de la biblioteca NumPy realiza diferentes operaciones dependiendo de lo que reciba como entrada:\n",
        "\n",
        "* Si recibe un vector, lo convierte en una matriz diagonal, donde los valores del vector se colocan en la diagonal principal de la matriz y los demás valores fuera de la diagonal se ponen a cero.\n",
        "* Si recibe una matriz, extrae la diagonal de esa matriz y devuelve los valores en forma de un vector."
      ]
    },
    {
      "cell_type": "code",
      "execution_count": null,
      "metadata": {
        "id": "eL_lzS0N65pz"
      },
      "outputs": [],
      "source": [
        "ratings_pred = np.dot(np.dot(U, S_diag), Vt)"
      ]
    },
    {
      "cell_type": "markdown",
      "metadata": {
        "id": "iUbz1yFl0Ow_"
      },
      "source": [
        "Primera operación (np.dot(U, S_diag)): Aquí se realiza la multiplicación de la matriz U por la matriz diagonal S_diag. Esto transforma la matriz 𝑈\n",
        "al \"escala\" por los valores singulares correspondientes.\n",
        "\n",
        "La operación 𝑈⋅𝑆diag ajusta los vectores singulares de U según la importancia de cada dimensión latente (reflejada en los valores singulares).\n",
        "\n",
        "Segunda operación (np.dot(U * S_diag, Vt)): Luego, el resultado de la primera operación se multiplica por VT para completar la reconstrucción de la matriz.VT representa los vectores singulares derechos que nos permiten ajustar las relaciones entre las columnas de la matriz original.\n",
        "Resultado (ratings_pred):\n",
        "\n",
        "El resultado final es una matriz aproximada o reconstruida (llamada ratings_pred en este caso), que intenta ser lo más cercana posible a la matriz original ratings. Dependiendo de si se usan todos los valores singulares o solo los primeros k, esta puede ser una aproximación o la reconstrucción completa de la matriz original."
      ]
    },
    {
      "cell_type": "code",
      "execution_count": null,
      "metadata": {
        "colab": {
          "base_uri": "https://localhost:8080/"
        },
        "id": "7F4yeNlr7AIX",
        "outputId": "9c9aedc3-b1d5-4c3b-f226-3a1324aa9ee1"
      },
      "outputs": [
        {
          "name": "stdout",
          "output_type": "stream",
          "text": [
            "Matriz aproximada de calificaciones:\n",
            " [[ 5.  3.  4.  1.]\n",
            " [ 4.  2.  0.  1.]\n",
            " [ 1.  1.  0.  5.]\n",
            " [ 0.  0.  5.  4.]\n",
            " [ 0.  2.  4. -0.]]\n"
          ]
        }
      ],
      "source": [
        "print(\"Matriz aproximada de calificaciones:\\n\", np.round(ratings_pred, 2))"
      ]
    },
    {
      "cell_type": "markdown",
      "metadata": {
        "id": "k7ffUz-b75bs"
      },
      "source": [
        "Es posible que los resultados obtenidos no sean concluyentes o precisos debido a la naturaleza de los valores singulares y la forma en que la SVD se utiliza para aproximar la matriz. Cuando utilizamos la SVD para reconstruir una matriz, en muchos casos es necesario realizar algunos ajustes adicionales para mejorar la precisión de las predicciones, sobre todo si la matriz original tiene muchos ceros."
      ]
    },
    {
      "cell_type": "markdown",
      "metadata": {
        "id": "xhDXTnviGkSl"
      },
      "source": [
        "1. Problema de la Densidad de la Matriz En el ejercicio, muchos valores en la matriz de calificaciones **son ceros**, lo que representa datos faltantes. **Si la matriz tiene demasiados ceros, puede que el modelo no capture suficiente información para hacer buenas predicciones.**\n",
        "*Solución: En lugar de usar una SVD simple, un enfoque más común es realizar una factorización de matrices regularizada, que introduce términos que penalizan los errores en la reconstrucción de la matriz para evitar el sobreajuste a los datos escasos.*"
      ]
    },
    {
      "cell_type": "markdown",
      "metadata": {
        "id": "hjmid1-UG245"
      },
      "source": [
        "**Predicción con Reducción Dimensional**\n",
        "La SVD produce una aproximación completa de la matriz, pero en la práctica, no necesitamos usar todos los valores singulares. Reducir la cantidad de factores latentes puede mejorar la capacidad del modelo para generalizar y evitar el sobreajuste.\n",
        "\n",
        "*Solución: Se suele truncar la matriz de valores singulares a los componentes más importantes (reducción dimensional), lo que genera una mejor aproximación.*"
      ]
    },
    {
      "cell_type": "code",
      "execution_count": null,
      "metadata": {
        "colab": {
          "base_uri": "https://localhost:8080/"
        },
        "id": "1NimPoYm8PwM",
        "outputId": "6c46813f-0e11-499b-e950-9b082812fc9f"
      },
      "outputs": [
        {
          "name": "stdout",
          "output_type": "stream",
          "text": [
            "Matriz aproximada de calificaciones (con truncamiento):\n",
            " [[ 4.98  1.98 -0.6   1.92]\n",
            " [ 3.33  1.31 -0.45  1.24]\n",
            " [ 2.05  1.22  1.95  2.67]\n",
            " [-0.32  0.78  4.86  4.  ]\n",
            " [-0.31  0.35  2.56  2.04]]\n"
          ]
        }
      ],
      "source": [
        "# Código con Truncamiento\n",
        "import numpy as np\n",
        "from numpy.linalg import svd\n",
        "\n",
        "# Matriz de calificaciones\n",
        "ratings = np.array([\n",
        "    [5, 3, 0, 1],\n",
        "    [4, 0, 0, 1],\n",
        "    [1, 1, 0, 5],\n",
        "    [0, 0, 5, 4],\n",
        "    [0, 2, 4, 0]\n",
        "])\n",
        "\n",
        "# Descomposición en valores singulares\n",
        "U, S, Vt = svd(ratings, full_matrices=False)\n",
        "\n",
        "# Solo usamos los primeros k valores singulares para reducir la dimensionalidad\n",
        "k = 2  # Elige cuántos factores latentes usar (2 es un buen inicio)\n",
        "U_k = U[:, :k]\n",
        "S_k = np.diag(S[:k])\n",
        "Vt_k = Vt[:k, :]\n",
        "\n",
        "# Aproximación de la matriz usando solo k factores latentes\n",
        "ratings_pred = np.dot(np.dot(U_k, S_k), Vt_k)\n",
        "\n",
        "print(\"Matriz aproximada de calificaciones (con truncamiento):\\n\", np.round(ratings_pred, 2))\n"
      ]
    },
    {
      "cell_type": "markdown",
      "metadata": {
        "id": "xUbB_m01_XOS"
      },
      "source": [
        "**EXPLICACIÓN DEL NUEVO CODIGO**\n",
        "truncamiento de la descomposición en valores singulares (SVD) para reducir la dimensionalidad y mejorar la generalización del modelo."
      ]
    },
    {
      "cell_type": "markdown",
      "metadata": {
        "id": "SN51NshFOUwU"
      },
      "source": [
        "Selección del número de factores latentes (k)"
      ]
    },
    {
      "cell_type": "code",
      "execution_count": null,
      "metadata": {
        "id": "l3Lx44PGHwuM"
      },
      "outputs": [],
      "source": [
        "k = 2  # Elige cuántos factores latentes usar (2 es un buen inicio)"
      ]
    },
    {
      "cell_type": "markdown",
      "metadata": {
        "id": "Dcfa5GqlH4AM"
      },
      "source": [
        "Propósito: **Establecemos una variable k que define cuántos factores latentes (o dimensiones) vamos a mantener. Estos factores latentes representan las características más relevantes tanto de los usuarios como de las películas.**\n",
        "Valor sugerido: Usamos k = 2 para comenzar, lo que significa que nos quedaremos con los 2 factores más importantes que explican las relaciones entre los usuarios y las películas.\n",
        "Motivación: No usamos todos los factores latentes porque muchos de ellos pueden corresponder a \"ruido\" o detalles poco significativos en los datos. El objetivo es quedarse solo con los factores que explican la mayor parte de la varianza."
      ]
    },
    {
      "cell_type": "markdown",
      "metadata": {
        "id": "YSNgJmtlNNgG"
      },
      "source": [
        "Truncamiento de la matriz U"
      ]
    },
    {
      "cell_type": "code",
      "execution_count": null,
      "metadata": {
        "id": "v1Y5C_MPNOyx"
      },
      "outputs": [],
      "source": [
        "U_k = U[:, :k]"
      ]
    },
    {
      "cell_type": "markdown",
      "metadata": {
        "id": "SMK_xtPyNRQl"
      },
      "source": [
        "Propósito: Aquí seleccionamos las primeras k columnas de la matriz U. La matriz U tiene tantas columnas como usuarios y tantas filas como factores latentes.\n",
        "Sintaxis:\n",
        "U[:, :k] significa \"toma todas las filas (:) y las primeras k columnas (:k)\".\n",
        "Significado: Esto nos da una versión truncada de la matriz U, que representa a los usuarios en un espacio latente de dimensión k. Cada fila de esta matriz truncada es una representación reducida del perfil de calificaciones de un usuario en términos de los k factores latentes más importantes."
      ]
    },
    {
      "cell_type": "markdown",
      "metadata": {
        "id": "OQvgWjVHNpwz"
      },
      "source": [
        "Truncamiento de los valores singulares"
      ]
    },
    {
      "cell_type": "code",
      "execution_count": null,
      "metadata": {
        "id": "W_JWlJMBNvk3"
      },
      "outputs": [],
      "source": [
        "S_k = np.diag(S[:k])"
      ]
    },
    {
      "cell_type": "markdown",
      "metadata": {
        "id": "a3XJKar6NyYT"
      },
      "source": [
        "Propósito: Seleccionamos los primeros k valores singulares de la matriz S y los convertimos en una matriz diagonal.\n",
        "Sintaxis:\n",
        "S[:k] extrae los primeros k elementos del vector S (que contiene los valores singulares).\n",
        "np.diag(S[:k]) convierte este vector en una matriz diagonal de tamaño k \\times k, con los valores singulares en su diagonal principal.\n",
        "Significado: Los valores singulares nos indican cuánta información está contenida en cada uno de los factores latentes. Al mantener solo los k más grandes, conservamos los factores que más contribuyen a la explicación de la matriz original."
      ]
    },
    {
      "cell_type": "markdown",
      "metadata": {
        "id": "CNBORi_rN-DP"
      },
      "source": [
        "Truncamiento de la matriz Vt"
      ]
    },
    {
      "cell_type": "code",
      "execution_count": null,
      "metadata": {
        "id": "pR82m0XsN_cD"
      },
      "outputs": [],
      "source": [
        "Vt_k = Vt[:k, :]"
      ]
    },
    {
      "cell_type": "markdown",
      "metadata": {
        "id": "G_GExZj-OGZB"
      },
      "source": [
        "Propósito: Seleccionamos las primeras k filas de la matriz Vt. La matriz Vt tiene tantas filas como factores latentes y tantas columnas como películas.\n",
        "Sintaxis:\n",
        "Vt[:k, :] significa \"toma las primeras k filas (:k) y todas las columnas (:)\".\n",
        "Significado: Esto nos da una versión truncada de la matriz Vt, que representa las películas en el mismo espacio latente reducido de dimensión k. Cada columna de esta matriz truncada es una representación reducida de una película en términos de los k factores latentes más importantes."
      ]
    },
    {
      "cell_type": "code",
      "execution_count": null,
      "metadata": {},
      "outputs": [],
      "source": []
    },
    {
      "cell_type": "markdown",
      "metadata": {
        "id": "D4bIJDTjOISv"
      },
      "source": [
        "Aproximación de la matriz de calificaciones (predicción)"
      ]
    },
    {
      "cell_type": "code",
      "execution_count": null,
      "metadata": {
        "id": "TRvcOnLMONnn"
      },
      "outputs": [],
      "source": [
        "ratings_pred = np.dot(np.dot(U_k, S_k), Vt_k)"
      ]
    },
    {
      "cell_type": "markdown",
      "metadata": {
        "id": "FxxvYjkKOSPC"
      },
      "source": [
        "Propósito: Aquí reconstruimos una aproximación de la matriz de calificaciones original utilizando solo los primeros k factores latentes.\n",
        "Proceso:\n",
        "Primero multiplicamos la matriz truncada de usuarios (U_k) con la matriz diagonal truncada de valores singulares (S_k).\n",
        "Luego, el resultado de esa multiplicación se multiplica por la matriz truncada de películas (Vt_k).\n",
        "Sintaxis:\n",
        "np.dot(U_k, S_k) realiza la multiplicación de matrices entre U_k y S_k.\n",
        "np.dot(np.dot(U_k, S_k), Vt_k) multiplica el resultado por Vt_k.\n",
        "Significado: Este paso genera una matriz aproximada de calificaciones (ratings_pred) utilizando solo los principales patrones de los datos (los k factores latentes). Los valores en esta nueva matriz representan una versión estimada de la matriz original, incluidas las predicciones para las posiciones que originalmente tenían ceros."
      ]
    }
  ],
  "metadata": {
    "colab": {
      "provenance": []
    },
    "kernelspec": {
      "display_name": "Python 3",
      "name": "python3"
    },
    "language_info": {
      "name": "python"
    }
  },
  "nbformat": 4,
  "nbformat_minor": 0
}
